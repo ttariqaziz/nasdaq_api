{
  "cells": [
    {
      "cell_type": "markdown",
      "source": [
        "This exercise will require you to pull some data from https://data.nasdaq.com/ (formerly Quandl API)."
      ],
      "metadata": {
        "id": "2z2bCak-sSFY"
      }
    },
    {
      "cell_type": "markdown",
      "source": [
        "As a first step, you will need to register a free account on the https://data.nasdaq.com/ website."
      ],
      "metadata": {
        "id": "GqwSf2H0sSFb"
      }
    },
    {
      "cell_type": "markdown",
      "source": [
        "After you register, you will be provided with a unique API key, that you should store:\n",
        "\n",
        "*Note*: Use a `.env` file and put your key in there and `python-dotenv` to access it in this notebook. \n",
        "\n",
        "The code below uses a key that was used when generating this project but has since been deleted. Never submit your keys to source control. There is a `.env-example` file in this repository to illusrtate what you need. Copy that to a file called `.env` and use your own api key in that `.env` file. Make sure you also have a `.gitignore` file with a line for `.env` added to it. \n",
        "\n",
        "The standard Python gitignore is [here](https://github.com/github/gitignore/blob/master/Python.gitignore) you can just copy that. "
      ],
      "metadata": {
        "id": "9aHa6a_-sSFc"
      }
    },
    {
      "cell_type": "code",
      "source": [
        "'''\n",
        "GIT COMMANDS to PULL the data:\n",
        "\n",
        "-->  mkdir api_nasdaq\n",
        "-->  cd api_nasdaq/\n",
        "-->  git init\n",
        "-->  git pull https://github.com/springboard-curriculum/dsc\n",
        "remote: Enumerating objects: 547, done.\n",
        "remote: Counting objects: 100% (119/119), done.\n",
        "remote: Compressing objects: 100% (23/23), done.\n",
        "remote: Total 547 (delta 97), reused 96 (delta 96), pack-reused 428\n",
        "Receiving objects: 100% (547/547), 46.13 MiB | 2.16 MiB/s, done.\n",
        "Resolving deltas: 100% (193/193), done.\n",
        "From https://github.com/springboard-curriculum/dsc\n",
        " * branch            HEAD       -> FETCH_HEAD\n",
        " fatal: refusing to merge unrelated histories\n",
        "\n",
        "-->  git config --global user.email \"ta.aziz221@gmail.com\"\n",
        "-->  git config --global user.name \"ttariqaziz\"\n",
        "-->  git pull https://github.com/ttariqaziz/dsc-api_nasdaq --allow-unrelated-histories\n",
        "From https://github.com/ttariqaziz/dsc-api_nasdaq\n",
        " * branch            HEAD       -> FETCH_HEAD\n",
        "Auto-merging README.md\n",
        "\n",
        "\n",
        "'''"
      ],
      "metadata": {
        "id": "vRACFuVisXdn"
      },
      "execution_count": null,
      "outputs": []
    },
    {
      "cell_type": "code",
      "source": [
        "from google.colab import files\n",
        "upload=files.upload()"
      ],
      "metadata": {
        "colab": {
          "base_uri": "https://localhost:8080/",
          "height": 74
        },
        "id": "MM8LgJSJuZKx",
        "outputId": "6bae43ce-1434-4d3c-becf-3a12c5839217"
      },
      "execution_count": 20,
      "outputs": [
        {
          "output_type": "display_data",
          "data": {
            "text/plain": [
              "<IPython.core.display.HTML object>"
            ],
            "text/html": [
              "\n",
              "     <input type=\"file\" id=\"files-19285aa3-bab3-4842-8eea-7f14d684a116\" name=\"files[]\" multiple disabled\n",
              "        style=\"border:none\" />\n",
              "     <output id=\"result-19285aa3-bab3-4842-8eea-7f14d684a116\">\n",
              "      Upload widget is only available when the cell has been executed in the\n",
              "      current browser session. Please rerun this cell to enable.\n",
              "      </output>\n",
              "      <script>// Copyright 2017 Google LLC\n",
              "//\n",
              "// Licensed under the Apache License, Version 2.0 (the \"License\");\n",
              "// you may not use this file except in compliance with the License.\n",
              "// You may obtain a copy of the License at\n",
              "//\n",
              "//      http://www.apache.org/licenses/LICENSE-2.0\n",
              "//\n",
              "// Unless required by applicable law or agreed to in writing, software\n",
              "// distributed under the License is distributed on an \"AS IS\" BASIS,\n",
              "// WITHOUT WARRANTIES OR CONDITIONS OF ANY KIND, either express or implied.\n",
              "// See the License for the specific language governing permissions and\n",
              "// limitations under the License.\n",
              "\n",
              "/**\n",
              " * @fileoverview Helpers for google.colab Python module.\n",
              " */\n",
              "(function(scope) {\n",
              "function span(text, styleAttributes = {}) {\n",
              "  const element = document.createElement('span');\n",
              "  element.textContent = text;\n",
              "  for (const key of Object.keys(styleAttributes)) {\n",
              "    element.style[key] = styleAttributes[key];\n",
              "  }\n",
              "  return element;\n",
              "}\n",
              "\n",
              "// Max number of bytes which will be uploaded at a time.\n",
              "const MAX_PAYLOAD_SIZE = 100 * 1024;\n",
              "\n",
              "function _uploadFiles(inputId, outputId) {\n",
              "  const steps = uploadFilesStep(inputId, outputId);\n",
              "  const outputElement = document.getElementById(outputId);\n",
              "  // Cache steps on the outputElement to make it available for the next call\n",
              "  // to uploadFilesContinue from Python.\n",
              "  outputElement.steps = steps;\n",
              "\n",
              "  return _uploadFilesContinue(outputId);\n",
              "}\n",
              "\n",
              "// This is roughly an async generator (not supported in the browser yet),\n",
              "// where there are multiple asynchronous steps and the Python side is going\n",
              "// to poll for completion of each step.\n",
              "// This uses a Promise to block the python side on completion of each step,\n",
              "// then passes the result of the previous step as the input to the next step.\n",
              "function _uploadFilesContinue(outputId) {\n",
              "  const outputElement = document.getElementById(outputId);\n",
              "  const steps = outputElement.steps;\n",
              "\n",
              "  const next = steps.next(outputElement.lastPromiseValue);\n",
              "  return Promise.resolve(next.value.promise).then((value) => {\n",
              "    // Cache the last promise value to make it available to the next\n",
              "    // step of the generator.\n",
              "    outputElement.lastPromiseValue = value;\n",
              "    return next.value.response;\n",
              "  });\n",
              "}\n",
              "\n",
              "/**\n",
              " * Generator function which is called between each async step of the upload\n",
              " * process.\n",
              " * @param {string} inputId Element ID of the input file picker element.\n",
              " * @param {string} outputId Element ID of the output display.\n",
              " * @return {!Iterable<!Object>} Iterable of next steps.\n",
              " */\n",
              "function* uploadFilesStep(inputId, outputId) {\n",
              "  const inputElement = document.getElementById(inputId);\n",
              "  inputElement.disabled = false;\n",
              "\n",
              "  const outputElement = document.getElementById(outputId);\n",
              "  outputElement.innerHTML = '';\n",
              "\n",
              "  const pickedPromise = new Promise((resolve) => {\n",
              "    inputElement.addEventListener('change', (e) => {\n",
              "      resolve(e.target.files);\n",
              "    });\n",
              "  });\n",
              "\n",
              "  const cancel = document.createElement('button');\n",
              "  inputElement.parentElement.appendChild(cancel);\n",
              "  cancel.textContent = 'Cancel upload';\n",
              "  const cancelPromise = new Promise((resolve) => {\n",
              "    cancel.onclick = () => {\n",
              "      resolve(null);\n",
              "    };\n",
              "  });\n",
              "\n",
              "  // Wait for the user to pick the files.\n",
              "  const files = yield {\n",
              "    promise: Promise.race([pickedPromise, cancelPromise]),\n",
              "    response: {\n",
              "      action: 'starting',\n",
              "    }\n",
              "  };\n",
              "\n",
              "  cancel.remove();\n",
              "\n",
              "  // Disable the input element since further picks are not allowed.\n",
              "  inputElement.disabled = true;\n",
              "\n",
              "  if (!files) {\n",
              "    return {\n",
              "      response: {\n",
              "        action: 'complete',\n",
              "      }\n",
              "    };\n",
              "  }\n",
              "\n",
              "  for (const file of files) {\n",
              "    const li = document.createElement('li');\n",
              "    li.append(span(file.name, {fontWeight: 'bold'}));\n",
              "    li.append(span(\n",
              "        `(${file.type || 'n/a'}) - ${file.size} bytes, ` +\n",
              "        `last modified: ${\n",
              "            file.lastModifiedDate ? file.lastModifiedDate.toLocaleDateString() :\n",
              "                                    'n/a'} - `));\n",
              "    const percent = span('0% done');\n",
              "    li.appendChild(percent);\n",
              "\n",
              "    outputElement.appendChild(li);\n",
              "\n",
              "    const fileDataPromise = new Promise((resolve) => {\n",
              "      const reader = new FileReader();\n",
              "      reader.onload = (e) => {\n",
              "        resolve(e.target.result);\n",
              "      };\n",
              "      reader.readAsArrayBuffer(file);\n",
              "    });\n",
              "    // Wait for the data to be ready.\n",
              "    let fileData = yield {\n",
              "      promise: fileDataPromise,\n",
              "      response: {\n",
              "        action: 'continue',\n",
              "      }\n",
              "    };\n",
              "\n",
              "    // Use a chunked sending to avoid message size limits. See b/62115660.\n",
              "    let position = 0;\n",
              "    do {\n",
              "      const length = Math.min(fileData.byteLength - position, MAX_PAYLOAD_SIZE);\n",
              "      const chunk = new Uint8Array(fileData, position, length);\n",
              "      position += length;\n",
              "\n",
              "      const base64 = btoa(String.fromCharCode.apply(null, chunk));\n",
              "      yield {\n",
              "        response: {\n",
              "          action: 'append',\n",
              "          file: file.name,\n",
              "          data: base64,\n",
              "        },\n",
              "      };\n",
              "\n",
              "      let percentDone = fileData.byteLength === 0 ?\n",
              "          100 :\n",
              "          Math.round((position / fileData.byteLength) * 100);\n",
              "      percent.textContent = `${percentDone}% done`;\n",
              "\n",
              "    } while (position < fileData.byteLength);\n",
              "  }\n",
              "\n",
              "  // All done.\n",
              "  yield {\n",
              "    response: {\n",
              "      action: 'complete',\n",
              "    }\n",
              "  };\n",
              "}\n",
              "\n",
              "scope.google = scope.google || {};\n",
              "scope.google.colab = scope.google.colab || {};\n",
              "scope.google.colab._files = {\n",
              "  _uploadFiles,\n",
              "  _uploadFilesContinue,\n",
              "};\n",
              "})(self);\n",
              "</script> "
            ]
          },
          "metadata": {}
        },
        {
          "output_type": "stream",
          "name": "stdout",
          "text": [
            "Saving python-dotenv.env to python-dotenv.env\n"
          ]
        }
      ]
    },
    {
      "cell_type": "code",
      "source": [
        "!pip install python-dotenv"
      ],
      "metadata": {
        "colab": {
          "base_uri": "https://localhost:8080/"
        },
        "id": "PUGoDJbN0ess",
        "outputId": "dd0dab89-1e08-4e68-b300-290354396099"
      },
      "execution_count": 16,
      "outputs": [
        {
          "output_type": "stream",
          "name": "stdout",
          "text": [
            "Looking in indexes: https://pypi.org/simple, https://us-python.pkg.dev/colab-wheels/public/simple/\n",
            "Collecting python-dotenv\n",
            "  Downloading python_dotenv-0.21.0-py3-none-any.whl (18 kB)\n",
            "Installing collected packages: python-dotenv\n",
            "Successfully installed python-dotenv-0.21.0\n"
          ]
        }
      ]
    },
    {
      "cell_type": "code",
      "execution_count": 24,
      "source": [
        "# get api key from your .env file\n",
        "import os\n",
        "\n",
        "#from python-dotenv.env import python-dotenv.env\n",
        "\n",
        "#  /content/python-dotenv.env\n",
        "\n",
        "#from sample_data import python-dotenv.env # import python-dotenv.env\n",
        "\n",
        "\n",
        "#from content import python-dotenv.env\n",
        "#from dot\n",
        "\n",
        "#from python-dotenv.env import python-dotenv.env\n",
        "\n",
        "from dotenv import load_dotenv\n",
        "load_dotenv()\n",
        "\n",
        "API_KEY = os.getenv('NASDAQ_API_KEY')\n",
        "\n",
        "#API_KEY = os.getenv('NASDAQ_API_KEY')\n",
        "\n",
        "\n",
        "print(API_KEY)"
      ],
      "outputs": [
        {
          "output_type": "stream",
          "name": "stdout",
          "text": [
            "None\n"
          ]
        }
      ],
      "metadata": {
        "colab": {
          "base_uri": "https://localhost:8080/"
        },
        "id": "KNgzNAdzsSFd",
        "outputId": "51ecc30e-526d-47fa-b9b9-5fb7ff7d6f73"
      }
    },
    {
      "cell_type": "markdown",
      "source": [
        "Nasdaq Data has a large number of data sources, but, unfortunately, most of them require a Premium subscription. Still, there are also a good number of free datasets."
      ],
      "metadata": {
        "id": "hHXi27d4sSFf"
      }
    },
    {
      "cell_type": "markdown",
      "source": [
        "For this mini project, we will focus on equities data from the Frankfurt Stock Exhange (FSE), which is available for free. We'll try and analyze the stock prices of a company called Carl Zeiss Meditec, which manufactures tools for eye examinations, as well as medical lasers for laser eye surgery: https://www.zeiss.com/meditec/int/home.html. The company is listed under the stock ticker AFX_X."
      ],
      "metadata": {
        "id": "wDZdHcEdsSFf"
      }
    },
    {
      "cell_type": "markdown",
      "source": [
        "You can find the detailed Nasdaq Data API instructions here: https://docs.data.nasdaq.com/docs/in-depth-usage"
      ],
      "metadata": {
        "id": "DyI7n8VmsSFf"
      }
    },
    {
      "cell_type": "markdown",
      "source": [
        "While there is a dedicated Python package for connecting to the Nasdaq API, we would prefer that you use the *requests* package, which can be easily downloaded using *pip* or *conda*. You can find the documentation for the package here: http://docs.python-requests.org/en/master/ "
      ],
      "metadata": {
        "id": "bbAOu918sSFg"
      }
    },
    {
      "cell_type": "markdown",
      "source": [
        "Finally, apart from the *requests* package, you are encouraged to not use any third party Python packages, such as *pandas*, and instead focus on what's available in the Python Standard Library (the *collections* module might come in handy: https://pymotw.com/3/collections/).\n",
        "Also, since you won't have access to DataFrames, you are encouraged to us Python's native data structures - preferably dictionaries, though some questions can also be answered using lists.\n",
        "You can read more on these data structures here: https://docs.python.org/3/tutorial/datastructures.html"
      ],
      "metadata": {
        "id": "4AU8ky0csSFg"
      }
    },
    {
      "cell_type": "markdown",
      "source": [
        "Keep in mind that the JSON responses you will be getting from the API map almost one-to-one to Python's dictionaries. Unfortunately, they can be very nested, so make sure you read up on indexing dictionaries in the documentation provided above."
      ],
      "metadata": {
        "id": "wdqrbBUYsSFh"
      }
    },
    {
      "cell_type": "code",
      "execution_count": 4,
      "source": [
        "# First, import the relevant modules\n",
        "import json\n",
        "import os\n",
        "import statistics\n",
        "import requests"
      ],
      "outputs": [],
      "metadata": {
        "id": "AcM_17kHsSFh"
      }
    },
    {
      "cell_type": "markdown",
      "source": [
        "Note: API's can change a bit with each version, for this exercise it is reccomended to use the nasdaq api at `https://data.nasdaq.com/api/v3/`. This is the same api as what used to be quandl so `https://www.quandl.com/api/v3/` should work too.\n",
        "\n",
        "Hint: We are looking for the `AFX_X` data on the `datasets/FSE/` dataset."
      ],
      "metadata": {
        "id": "g08totPbsSFi"
      }
    },
    {
      "cell_type": "code",
      "execution_count": 5,
      "source": [
        "# Now, call the Nasdaq API and pull out a small sample of the data (only one day) to get a glimpse\n",
        "# into the JSON structure that will be returned\n",
        "\n",
        "r = requests.get('https://www.quandl.com/api/v3/datasets/FSE/AFX_X.json?api_key=yAkdZ-D1QswJiy9SFwyh&start_date=2019-04-22')"
      ],
      "outputs": [],
      "metadata": {
        "id": "Yu20MyDmsSFi"
      }
    },
    {
      "cell_type": "code",
      "source": [
        "print(r.json())"
      ],
      "metadata": {
        "colab": {
          "base_uri": "https://localhost:8080/"
        },
        "id": "GOFlENnnwN5a",
        "outputId": "3da603eb-d679-4dc0-be69-3e60722a461b"
      },
      "execution_count": 6,
      "outputs": [
        {
          "output_type": "stream",
          "name": "stdout",
          "text": [
            "{'dataset': {'id': 10095370, 'dataset_code': 'AFX_X', 'database_code': 'FSE', 'name': 'Carl Zeiss Meditec (AFX_X)', 'description': 'Stock Prices for Carl Zeiss Meditec (2020-11-02) from the Frankfurt Stock Exchange.<br><br>Trading System: Xetra<br><br>ISIN: DE0005313704', 'refreshed_at': '2020-12-01T14:48:09.907Z', 'newest_available_date': '2020-12-01', 'oldest_available_date': '2000-06-07', 'column_names': ['Date', 'Open', 'High', 'Low', 'Close', 'Change', 'Traded Volume', 'Turnover', 'Last Price of the Day', 'Daily Traded Units', 'Daily Turnover'], 'frequency': 'daily', 'type': 'Time Series', 'premium': False, 'limit': None, 'transform': None, 'column_index': None, 'start_date': '2019-04-22', 'end_date': '2020-12-01', 'data': [['2020-12-01', 112.2, 112.2, 111.5, 112.0, None, 51.0, 5703.0, None, None, None], ['2020-11-30', 111.0, 113.6, 111.0, 112.1, None, 315.0, 35111.5, None, None, None], ['2020-11-27', 111.0, 111.5, 109.5, 111.2, None, 155.0, 17168.5, None, None, None], ['2020-11-26', 111.3, 112.0, 110.5, 111.6, None, 254.0, 28367.5, None, None, None], ['2020-11-25', 111.4, 111.4, 110.1, 110.1, None, 294.0, 32435.8, None, None, None], ['2020-11-24', 116.1, 116.8, 110.5, 113.5, None, 3184.0, 361404.4, None, None, None], ['2020-11-23', 118.0, 118.8, 116.3, 116.3, None, 1590.0, 187525.0, None, None, None], ['2020-11-20', 116.5, 118.0, 116.5, 117.5, None, 295.0, 34736.0, None, None, None], ['2020-11-19', 115.6, 115.6, 115.6, 115.6, None, 0.0, 0.0, None, None, None], ['2020-11-18', 115.8, 115.8, 115.0, 115.0, None, 25.0, 2875.0, None, None, None], ['2020-11-17', 117.9, 117.9, 115.7, 115.7, None, 381.0, 44235.6, None, None, None], ['2020-11-16', 118.9, 119.8, 118.1, 118.1, None, 266.0, 31637.8, None, None, None], ['2020-11-13', 115.4, 117.2, 115.4, 117.2, None, 162.0, 18892.3, None, None, None], ['2020-11-12', 117.1, 117.5, 116.4, 116.4, None, 185.0, 21587.5, None, None, None], ['2020-11-11', 115.0, 117.3, 115.0, 116.9, None, 353.0, 41227.0, None, None, None], ['2020-11-10', 118.4, 118.4, 114.6, 114.6, None, 93.0, 10801.6, None, None, None], ['2020-11-09', 116.1, 119.9, 116.1, 119.4, None, 494.0, 58880.6, None, None, None], ['2020-11-06', 115.2, 115.8, 114.8, 115.1, None, 190.0, 21831.0, None, None, None], ['2020-11-05', 114.7, 116.2, 114.7, 115.4, None, 382.0, 44272.4, None, None, None], ['2020-11-04', 109.8, 113.8, 109.8, 113.8, None, 69.0, 7804.7, None, None, None], ['2020-11-03', 108.4, 110.0, 108.4, 110.0, None, 176.0, 19259.0, None, None, None], ['2020-11-02', 111.3, 111.6, 108.1, 108.1, None, 362.0, 39844.5, None, None, None], ['2020-10-30', 107.2, 112.9, 107.2, 110.7, None, 99.0, 11001.5, None, None, None], ['2020-10-29', 112.1, 113.0, 106.7, 109.5, None, 395.0, 43369.2, None, None, None], ['2020-10-28', 113.7, 113.7, 106.1, 111.8, None, 861.0, 94248.9, None, None, None], ['2020-10-27', 115.6, 115.8, 114.9, 114.9, None, 360.0, 41598.0, None, None, None], ['2020-10-26', 117.5, 117.5, 113.4, 113.7, None, 694.0, 80177.1, None, None, None], ['2020-10-23', 120.4, 121.1, 115.0, 118.5, None, 813.0, 96193.0, None, None, None], ['2020-10-22', 119.5, 121.9, 118.8, 121.5, None, 260.0, 31396.4, None, None, None], ['2020-10-21', 121.8, 121.9, 119.9, 120.6, None, 2148.0, 258027.5, None, None, None], ['2020-10-20', 122.1, 123.2, 121.8, 123.2, None, 55.0, 6706.0, None, None, None], ['2020-10-19', 121.6, 123.7, 121.6, 122.8, None, 264.0, 32417.3, None, None, None], ['2020-10-16', 118.6, 122.4, 118.6, 121.4, None, 320.0, 39037.3, None, None, None], ['2020-10-15', 121.0, 121.2, 118.5, 118.7, None, 853.0, 102179.6, None, None, None], ['2020-10-14', 118.6, 122.1, 118.6, 122.1, None, 507.0, 61486.3, None, None, None], ['2020-10-13', 120.3, 120.9, 117.8, 118.7, None, 351.0, 41428.7, None, None, None], ['2020-10-12', 115.8, 120.6, 115.8, 120.5, None, 331.0, 39564.3, None, None, None], ['2020-10-09', 114.0, 116.2, 113.9, 116.2, None, 1298.0, 149551.9, None, None, None], ['2020-10-08', 112.1, 114.5, 112.1, 114.5, None, 392.0, 44587.1, None, None, None], ['2020-10-07', 112.0, 112.7, 111.3, 112.7, None, 202.0, 22687.6, None, None, None], ['2020-10-06', 110.4, 111.8, 110.4, 111.8, None, 450.0, 50030.0, None, None, None], ['2020-10-05', 109.3, 110.9, 109.3, 110.9, None, 64.0, 7068.6, None, None, None], ['2020-10-02', 108.0, 109.6, 108.0, 109.6, None, 177.0, 19153.5, None, None, None], ['2020-10-01', 108.1, 109.5, 108.1, 109.5, None, 70.0, 7650.0, None, None, None], ['2020-09-30', 108.6, 108.6, 106.8, 106.8, None, 271.0, 29094.6, None, None, None], ['2020-09-29', 106.9, 109.4, 106.9, 109.4, None, 76.0, 8253.9, None, None, None], ['2020-09-28', 105.0, 107.3, 105.0, 107.1, None, 472.0, 50326.6, None, None, None], ['2020-09-25', 103.2, 104.4, 103.0, 103.7, None, 763.0, 78994.1, None, None, None], ['2020-09-24', 100.5, 103.8, 100.5, 103.8, None, 152.0, 15708.0, None, None, None], ['2020-09-23', 101.0, 101.7, 100.6, 101.7, None, 368.0, 37374.3, None, None, None], ['2020-09-22', 98.5, 100.0, 98.5, 100.0, None, 190.0, 18865.0, None, None, None], ['2020-09-21', 101.7, 101.7, 98.2, 98.2, None, 300.0, 30299.0, None, None, None], ['2020-09-18', 100.1, 101.2, 100.1, 101.2, None, 209.0, 21100.8, None, None, None], ['2020-09-17', 96.1, 102.0, 96.0, 102.0, None, 433.0, 42836.5, None, None, None], ['2020-09-16', 93.1, 95.95, 93.1, 95.95, None, 45.0, 4241.25, None, None, None], ['2020-09-15', 92.5, 92.5, 92.15, 92.4, None, 167.0, 15414.45, None, None, None], ['2020-09-14', 93.1, 93.1, 93.0, 93.0, None, 25.0, 2326.0, None, None, None], ['2020-09-11', 93.85, 93.85, 92.5, 92.5, None, 70.0, 6475.0, None, None, None], ['2020-09-10', 95.6, 95.6, 94.55, 94.55, None, 110.0, 10495.5, None, None, None], ['2020-09-09', 94.75, 95.85, 94.4, 95.85, None, 411.0, 38950.25, None, None, None], ['2020-09-08', 96.3, 96.3, 93.3, 94.75, None, 165.0, 15516.5, None, None, None], ['2020-09-07', 93.5, 95.95, 93.5, 95.95, None, 160.0, 15074.5, None, None, None], ['2020-09-04', 94.5, 94.5, 93.15, 93.15, None, 350.0, 32790.25, None, None, None], ['2020-09-03', 99.1, 99.1, 94.8, 95.0, None, 382.0, 36699.7, None, None, None], ['2020-09-02', 94.75, 99.05, 94.75, 98.75, None, 582.0, 56936.55, None, None, None], ['2020-09-01', 94.6, 95.0, 94.55, 94.55, None, 385.0, 36427.5, None, None, None], ['2020-08-31', 94.75, 94.75, 94.35, 94.35, None, 175.0, 16541.25, None, None, None], ['2020-08-28', 95.0, 95.5, 93.8, 95.3, None, 98882.0, 9370950.35, None, None, None], ['2020-08-27', 95.7, 96.0, 94.5, 94.8, None, 142753.0, 13576918.75, None, None, None], ['2020-08-26', 94.25, 95.5, 94.05, 95.4, None, 82485.0, 7827754.45, None, None, None], ['2020-08-25', 93.85, 94.75, 93.45, 94.5, None, 89082.0, 8397454.8, None, None, None], ['2020-08-24', 92.3, 94.5, 92.3, 93.5, None, 119117.0, 11168837.75, None, None, None], ['2020-08-21', 92.15, 92.2, 90.65, 91.9, None, 65210.0, 5976477.15, None, None, None], ['2020-08-20', 91.0, 92.4, 90.45, 92.15, None, 95493.0, 8763119.9, None, None, None], ['2020-08-19', 91.0, 92.2, 90.0, 91.65, None, 88102.0, 8063097.4, None, None, None], ['2020-08-18', 91.55, 92.0, 90.4, 91.0, None, 85470.0, 7789882.4, None, None, None], ['2020-08-17', 91.6, 91.95, 90.55, 91.9, None, 58566.0, 5357104.3, None, None, None], ['2020-08-14', 92.9, 93.25, 91.35, 91.85, None, 78700.0, 7257628.1, None, None, None], ['2020-08-13', 92.2, 93.0, 91.1, 92.85, None, 98209.0, 9080452.6, None, None, None], ['2020-08-12', 90.8, 92.95, 88.3, 92.65, None, 182444.0, 16598657.95, None, None, None], ['2020-08-11', 94.9, 95.4, 90.35, 90.75, None, 168948.0, 15524389.1, None, None, None], ['2020-08-10', 94.0, 96.0, 93.75, 94.55, None, 183320.0, 17388579.4, None, None, None], ['2020-08-07', 90.2, 93.15, 89.8, 92.95, None, 109450.0, 10126152.1, None, None, None], ['2020-08-06', 91.45, 92.0, 90.35, 91.1, None, 140089.0, 12778666.3, None, None, None], ['2020-08-05', 89.85, 91.85, 88.75, 91.85, None, 147638.0, 13413298.3, None, None, None], ['2020-08-04', 90.5, 91.1, 88.25, 89.05, None, 110318.0, 9813561.0, None, None, None], ['2020-08-03', 89.0, 90.5, 88.2, 90.0, None, 95661.0, 8591521.9, None, None, None], ['2020-07-31', 89.4, 90.95, 88.5, 88.65, None, 145927.0, 13058046.1, None, None, None], ['2020-07-30', 91.7, 91.75, 88.1, 89.6, None, 182764.0, 16464224.8, None, None, None], ['2020-07-29', 88.55, 92.25, 88.2, 92.25, None, 169549.0, 15522318.75, None, None, None], ['2020-07-28', 89.5, 89.75, 88.35, 88.85, None, 116461.0, 10345922.4, None, None, None], ['2020-07-27', 88.0, 89.55, 87.35, 89.15, None, 102146.0, 9082131.05, None, None, None], ['2020-07-24', 90.5, 90.5, 87.85, 87.9, None, 177031.0, 15683394.95, None, None, None], ['2020-07-23', 88.4, 91.55, 88.15, 91.55, None, 146866.0, 13280553.85, None, None, None], ['2020-07-22', 88.6, 89.1, 87.4, 88.75, None, 101234.0, 8954258.2, None, None, None], ['2020-07-21', 89.55, 89.95, 87.75, 88.5, None, 195028.0, 17331900.8, None, None, None], ['2020-07-20', 88.25, 89.5, 87.55, 88.95, None, 227635.0, 20134893.65, None, None, None], ['2020-07-17', 89.15, 90.5, 88.0, 88.4, None, 163078.0, 14464839.25, None, None, None], ['2020-07-16', 90.65, 90.65, 87.9, 88.95, None, 197755.0, 17652520.05, None, None, None], ['2020-07-15', 90.0, 91.7, 86.3, 91.7, None, 258220.0, 23077220.7, None, None, None], ['2020-07-14', 90.1, 90.15, 88.1, 89.2, None, 183507.0, 16350975.75, None, None, None], ['2020-07-13', 90.45, 91.15, 88.6, 91.05, None, 87454.0, 7915927.0, None, None, None], ['2020-07-10', 89.25, 91.55, 88.9, 89.9, None, 93540.0, 8453243.25, None, None, None], ['2020-07-09', 91.15, 91.35, 89.45, 89.55, None, 181776.0, 16405326.65, None, None, None], ['2020-07-08', 92.0, 92.55, 90.15, 90.3, None, 153582.0, 13970079.05, None, None, None], ['2020-07-07', 92.95, 93.65, 91.15, 92.5, None, 153153.0, 14109118.8, None, None, None], ['2020-07-06', 93.8, 93.9, 92.8, 93.8, None, 98508.0, 9199714.85, None, None, None], ['2020-07-03', 93.1, 93.85, 91.9, 92.35, None, 114471.0, 10617857.55, None, None, None], ['2020-07-02', 89.75, 93.8, 88.8, 92.85, None, 365676.0, 33662061.9, None, None, None], ['2020-07-01', 86.2, 89.25, 86.0, 89.25, None, 106604.0, 9438618.8, None, None, None], ['2020-06-30', 87.0, 87.15, 85.0, 86.8, None, 138372.0, 11944211.15, None, None, None], ['2020-06-29', 88.0, 88.85, 86.5, 87.05, None, 76589.0, 6688133.9, None, None, None], ['2020-06-26', 88.2, 89.4, 86.65, 88.05, None, 123809.0, 10922723.5, None, None, None], ['2020-06-25', 86.25, 88.25, 84.8, 87.8, None, 118166.0, 10302946.05, None, None, None], ['2020-06-24', 90.05, 90.25, 86.2, 86.2, None, 115847.0, 10143798.5, None, None, None], ['2020-06-23', 89.2, 91.0, 88.6, 89.95, None, 112453.0, 10108636.8, None, None, None], ['2020-06-22', 90.35, 90.7, 87.85, 88.55, None, 116991.0, 10394476.9, None, None, None], ['2020-06-19', 90.55, 91.8, 90.0, 91.25, None, 174766.0, 15936379.65, None, None, None], ['2020-06-18', 91.6, 91.85, 89.6, 90.05, None, 98019.0, 8859710.65, None, None, None], ['2020-06-17', 90.55, 92.15, 89.7, 91.45, None, 149331.0, 13655800.2, None, None, None], ['2020-06-16', 88.35, 90.75, 87.45, 90.65, None, 206243.0, 18478591.35, None, None, None], ['2020-06-15', 85.0, 86.9, 84.75, 86.35, None, 181008.0, 15502164.95, None, None, None], ['2020-06-12', 85.65, 87.9, 84.85, 86.4, None, 137604.0, 11931180.75, None, None, None], ['2020-06-11', 87.0, 87.65, 85.55, 86.3, None, 127406.0, 11026683.1, None, None, None], ['2020-06-10', 89.25, 90.1, 87.0, 87.8, None, 192426.0, 16965135.2, None, None, None], ['2020-06-09', 91.65, 93.25, 89.2, 89.35, None, 209173.0, 18983014.7, None, None, None], ['2020-06-08', 92.65, 92.65, 89.8, 91.7, None, 172403.0, 15698539.85, None, None, None], ['2020-06-05', 91.6, 93.3, 90.65, 93.15, None, 185077.0, 17116028.75, None, None, None], ['2020-06-04', 92.3, 92.8, 89.65, 91.4, None, 238456.0, 21679333.75, None, None, None], ['2020-06-03', 91.15, 93.3, 89.65, 92.9, None, 144255.0, 13282471.95, None, None, None], ['2020-06-02', 93.3, 93.5, 89.5, 91.0, None, 165446.0, 15036505.55, None, None, None], ['2020-05-29', 91.05, 93.1, 90.25, 92.1, None, 238162.0, 21887648.1, None, None, None], ['2020-05-28', 88.1, 91.7, 87.4, 91.45, None, 228651.0, 14809122.8, None, None, None], ['2020-05-27', 91.0, 91.2, 86.4, 87.3, None, 292506.0, 25754496.6, None, None, None], ['2020-05-26', 91.1, 93.35, 89.7, 90.85, None, 295589.0, 27089139.05, None, None, None], ['2020-05-25', 88.6, 92.7, 88.1, 92.6, None, 101335.0, 9240143.65, None, None, None], ['2020-05-22', 87.35, 88.5, 85.45, 87.65, None, 170878.0, 14839809.55, None, None, None], ['2020-05-21', 90.95, 90.95, 87.8, 87.9, None, 103051.0, 9147975.45, None, None, None], ['2020-05-20', 92.5, 93.3, 91.3, 91.8, None, 169820.0, 15657134.85, None, None, None], ['2020-05-19', 90.45, 92.8, 89.8, 92.5, None, 215504.0, 19826326.1, None, None, None], ['2020-05-18', 85.45, 89.95, 84.9, 89.65, None, 202085.0, 17790850.8, None, None, None], ['2020-05-15', 82.25, 84.85, 80.65, 83.8, None, 219726.0, 18211281.9, None, None, None], ['2020-05-14', 84.7, 85.3, 81.15, 81.35, None, 227178.0, 18722697.45, None, None, None], ['2020-05-13', 85.5, 87.9, 83.8, 85.75, None, 229089.0, 19608050.05, None, None, None], ['2020-05-12', 91.55, 91.55, 86.0, 86.0, None, 332344.0, 29093515.5, None, None, None], ['2020-05-11', 97.0, 97.7, 90.75, 91.8, None, 202683.0, 18762257.75, None, None, None], ['2020-05-08', 96.35, 97.35, 95.15, 95.3, None, 134071.0, 12869764.45, None, None, None], ['2020-05-07', 94.55, 97.25, 94.25, 96.0, None, 210096.0, 20200879.55, None, None, None], ['2020-05-06', 92.8, 94.7, 91.45, 93.95, None, 129479.0, 12095616.85, None, None, None], ['2020-05-05', 88.9, 92.6, 88.25, 92.6, None, 131163.0, 12019019.15, None, None, None], ['2020-05-04', 87.65, 88.1, 85.95, 87.65, None, 168947.0, 14745103.15, None, None, None], ['2020-04-30', 91.6, 92.1, 89.9, 89.95, None, 137448.0, 12454130.55, None, None, None], ['2020-04-29', 90.0, 91.0, 87.85, 90.95, None, 143888.0, 12901979.9, None, None, None], ['2020-04-28', 92.0, 92.2, 89.15, 89.65, None, 163949.0, 14804941.85, None, None, None], ['2020-04-27', 95.05, 95.35, 92.1, 92.1, None, 109266.0, 10128133.7, None, None, None], ['2020-04-24', 94.4, 94.6, 92.35, 93.1, None, 111240.0, 10358166.75, None, None, None], ['2020-04-23', 94.75, 95.5, 92.7, 94.8, None, 123862.0, 11684265.45, None, None, None], ['2020-04-22', 92.75, 94.65, 91.6, 94.65, None, 126830.0, 11898048.5, None, None, None], ['2020-04-21', 93.4, 93.95, 91.5, 91.5, None, 115152.0, 10603440.3, None, None, None], ['2020-04-20', 94.0, 94.65, 91.9, 94.15, None, 124634.0, 11640880.35, None, None, None], ['2020-04-17', 93.4, 94.05, 91.85, 92.9, None, 185554.0, 17165035.1, None, None, None], ['2020-04-16', 91.9, 92.75, 90.7, 91.45, None, 162831.0, 14907520.55, None, None, None], ['2020-04-15', 94.0, 94.6, 90.15, 90.95, None, 204001.0, 18647943.8, None, None, None], ['2020-04-14', 97.5, 98.0, 93.35, 94.05, None, 147594.0, 13964369.1, None, None, None], ['2020-04-09', 93.1, 95.4, 92.05, 95.4, None, 161578.0, 15199731.2, None, None, None], ['2020-04-08', 90.2, 92.25, 89.8, 92.2, None, 152911.0, 14008042.75, None, None, None], ['2020-04-07', 92.0, 92.55, 88.9, 89.5, None, 218796.0, 19809733.65, None, None, None], ['2020-04-06', 86.35, 89.65, 86.25, 89.65, None, 165074.0, 14584495.75, None, None, None], ['2020-04-03', 83.1, 85.45, 82.5, 84.0, None, 184124.0, 15495174.4, None, None, None], ['2020-04-02', 86.0, 87.15, 79.5, 82.5, None, 300359.0, 24916457.15, None, None, None], ['2020-04-01', 86.5, 86.9, 85.0, 86.1, None, 192187.0, 16541381.35, None, None, None], ['2020-03-31', 92.0, 92.65, 88.15, 88.35, None, 311491.0, 27892906.55, None, None, None], ['2020-03-30', 85.4, 88.9, 83.1, 88.9, None, 167955.0, 14624880.3, None, None, None], ['2020-03-27', 89.0, 90.85, 83.5, 83.95, None, 231618.0, 19986099.3, None, None, None], ['2020-03-26', 81.5, 91.05, 81.5, 91.05, None, 274322.0, 23971500.55, None, None, None], ['2020-03-25', 82.5, 90.4, 80.6, 83.1, None, 284087.0, 23870691.15, None, None, None], ['2020-03-24', 79.2, 79.45, 76.6, 79.45, None, 256310.0, 20107995.1, None, None, None], ['2020-03-23', 74.5, 77.05, 72.9, 75.0, None, 187013.0, 14032458.1, None, None, None], ['2020-03-20', 76.65, 82.35, 75.7, 78.25, None, 446534.0, 34997042.95, None, None, None], ['2020-03-19', 69.15, 74.7, 67.7, 73.45, None, 272648.0, 19466640.1, None, None, None], ['2020-03-18', 74.5, 75.25, 69.55, 69.7, None, 341817.0, 24444114.6, None, None, None], ['2020-03-17', 79.0, 80.1, 73.5, 75.1, None, 265313.0, 20046246.2, None, None, None], ['2020-03-16', 75.0, 76.9, 71.45, 76.15, None, 422533.0, 31664759.85, None, None, None], ['2020-03-13', 77.75, 84.05, 76.85, 78.85, None, 457906.0, 36529317.4, None, None, None], ['2020-03-12', 77.75, 81.65, 75.8, 76.45, None, 428846.0, 33545984.85, None, None, None], ['2020-03-11', 87.6, 88.45, 83.85, 84.3, None, 250339.0, 21276696.5, None, None, None], ['2020-03-10', 88.25, 90.3, 86.0, 86.8, None, 324702.0, 28663267.75, None, None, None], ['2020-03-09', 87.65, 92.15, 85.1, 87.2, None, 392049.0, 34832184.95, None, None, None], ['2020-03-06', 95.0, 95.1, 91.9, 94.15, None, 211996.0, 19868077.2, None, None, None], ['2020-03-05', 101.3, 102.6, 96.35, 97.2, None, 230406.0, 22585334.7, None, None, None], ['2020-03-04', 98.3, 100.5, 97.55, 100.1, None, 251085.0, 24993655.35, None, None, None], ['2020-03-03', 97.1, 99.9, 95.55, 98.05, None, 435677.0, 42953287.0, None, None, None], ['2020-03-02', 96.5, 98.3, 93.55, 95.05, None, 285867.0, 27318381.65, None, None, None], ['2020-02-28', 90.05, 94.75, 89.65, 94.75, None, 468539.0, 43691138.55, None, None, None], ['2020-02-27', 97.95, 98.3, 93.75, 95.05, None, 253380.0, 24293170.5, None, None, None], ['2020-02-26', 98.5, 100.8, 96.35, 100.2, None, 371150.0, 36784605.3, None, None, None], ['2020-02-25', 105.6, 106.4, 100.6, 101.2, None, 250020.0, 25613306.6, None, None, None], ['2020-02-24', 104.0, 105.5, 102.2, 104.7, None, 211543.0, 22050204.4, None, None, None], ['2020-02-21', 110.1, 110.2, 107.7, 108.2, None, 119055.0, 12948891.0, None, None, None], ['2020-02-20', 111.3, 112.8, 109.9, 110.4, None, 139229.0, 15421757.0, None, None, None], ['2020-02-19', 110.3, 112.4, 109.5, 111.2, None, 138008.0, 15341487.0, None, None, None], ['2020-02-18', 107.2, 109.8, 107.0, 109.6, None, 111209.0, 12136682.0, None, None, None], ['2020-02-17', 108.9, 109.1, 107.6, 108.8, None, 71884.0, 7784747.5, None, None, None], ['2020-02-14', 109.2, 110.1, 108.2, 108.9, None, 127710.0, 13932329.0, None, None, None], ['2020-02-13', 110.0, 111.0, 107.6, 109.5, None, 175311.0, 19094774.0, None, None, None], ['2020-02-12', 112.4, 112.4, 109.7, 110.0, None, 153713.0, 16973868.0, None, None, None], ['2020-02-11', 110.1, 113.6, 109.3, 112.2, None, 266600.0, 29766104.0, None, None, None], ['2020-02-10', 114.0, 121.1, 107.0, 109.4, None, 449853.0, 50064696.0, None, None, None], ['2020-02-07', 116.4, 117.4, 114.1, 114.9, None, 158446.0, 18250740.0, None, None, None], ['2020-02-06', 117.0, 117.2, 114.7, 116.4, None, 98097.0, 11377620.0, None, None, None], ['2020-02-05', 116.4, 117.0, 115.8, 116.1, None, 141363.0, 16440834.0, None, None, None], ['2020-02-04', 112.1, 115.7, 111.7, 115.0, None, 214584.0, 24603160.0, None, None, None], ['2020-02-03', 110.0, 112.0, 109.3, 111.4, None, 231387.0, 25691706.0, None, None, None], ['2020-01-31', 112.5, 113.7, 110.1, 110.5, None, 257830.0, 28708798.0, None, None, None], ['2020-01-30', 116.8, 118.0, 112.8, 113.3, None, 198663.0, 22749126.0, None, None, None], ['2020-01-29', 118.3, 118.8, 117.4, 117.7, None, 88563.0, 10438738.0, None, None, None], ['2020-01-28', 118.8, 119.6, 115.2, 118.1, None, 134333.0, 15754191.0, None, None, None], ['2020-01-27', 119.6, 119.7, 117.9, 118.0, None, 110778.0, 13126700.0, None, None, None], ['2020-01-24', 119.5, 120.7, 118.6, 120.2, None, 102713.0, 12323204.0, None, None, None], ['2020-01-23', 120.2, 120.9, 118.8, 118.8, None, 92012.0, 11007938.0, None, None, None], ['2020-01-22', 120.2, 121.1, 119.2, 119.7, None, 74016.0, 8885031.0, None, None, None], ['2020-01-21', 121.4, 121.4, 118.9, 119.6, None, 98600.0, 11805317.0, None, None, None], ['2020-01-20', 121.2, 122.1, 120.7, 121.4, None, 63664.0, 7721389.5, None, None, None], ['2020-01-17', 119.9, 121.1, 119.3, 120.8, None, 63663.0, 7671528.0, None, None, None], ['2020-01-16', 120.4, 120.8, 119.0, 119.2, None, 66065.0, 7893356.5, None, None, None], ['2020-01-15', 119.5, 120.7, 119.1, 120.0, None, 111393.0, 13370345.0, None, None, None], ['2020-01-14', 117.6, 119.5, 116.7, 119.3, None, 105126.0, 12492392.0, None, None, None], ['2020-01-13', 118.0, 118.9, 117.0, 117.2, None, 84067.0, 9891618.0, None, None, None], ['2020-01-10', 119.6, 120.4, 117.3, 117.5, None, 102423.0, 12098654.0, None, None, None], ['2020-01-09', 118.4, 119.8, 117.5, 119.2, None, 134426.0, 15973124.0, None, None, None], ['2020-01-08', 114.2, 116.8, 114.0, 116.4, None, 82884.0, 9602366.0, None, None, None], ['2020-01-07', 114.4, 116.9, 114.3, 114.9, None, 98974.0, 11431904.0, None, None, None], ['2020-01-06', 112.0, 114.3, 111.7, 114.0, None, 95697.0, 10844169.0, None, None, None], ['2020-01-03', 112.8, 113.4, 112.0, 113.4, None, 82304.0, 9289987.0, None, None, None], ['2020-01-02', 114.0, 114.9, 112.7, 113.8, None, 143464.0, 16291666.0, None, None, None], ['2019-12-30', 116.4, 116.5, 113.7, 113.7, None, 60915.0, 6979033.0, None, None, None], ['2019-12-27', 116.0, 116.3, 115.0, 116.3, None, 62154.0, 7208475.5, None, None, None], ['2019-12-23', 115.0, 116.2, 114.6, 114.9, None, 66229.0, 7626266.1, None, None, None], ['2019-12-20', 115.9, 116.7, 114.4, 114.6, None, 185866.0, 21368077.0, None, None, None], ['2019-12-19', 115.8, 116.2, 114.9, 115.6, None, 124269.0, 14364060.2, None, None, None], ['2019-12-18', 115.4, 115.9, 114.3, 115.5, None, 124036.0, 14308979.8, None, None, None], ['2019-12-17', 113.4, 115.6, 113.1, 115.6, None, 198741.0, 22797197.4, None, None, None], ['2019-12-16', 111.9, 113.5, 111.1, 112.9, None, 123873.0, 13933520.7, None, None, None], ['2019-12-13', 113.0, 113.0, 110.5, 111.3, None, 115681.0, 12875607.7, None, None, None], ['2019-12-12', 113.0, 113.9, 111.4, 111.9, None, 169064.0, 18990658.0, None, None, None], ['2019-12-11', 113.8, 113.8, 110.9, 112.0, None, 149438.0, 16744868.0, None, None, None], ['2019-12-10', 114.0, 115.3, 110.0, 113.0, None, 219116.0, 24654700.0, None, None, None], ['2019-12-09', 105.1, 114.7, 105.1, 114.3, None, 405833.0, 45488588.0, None, None, None], ['2019-12-06', 106.6, 106.6, 99.6, 103.1, None, 561633.0, 57520904.0, None, None, None], ['2019-12-05', 110.1, 110.3, 109.2, 110.1, None, 69911.0, 7687537.5, None, None, None], ['2019-12-04', 108.6, 110.4, 108.5, 109.6, None, 91446.0, 10015437.0, None, None, None], ['2019-12-03', 107.7, 110.1, 107.3, 108.9, None, 130237.0, 14162319.0, None, None, None], ['2019-12-02', 111.0, 111.4, 107.2, 107.6, None, 144610.0, 15685797.0, None, None, None], ['2019-11-29', 108.2, 112.7, 108.1, 111.0, None, 168617.0, 18731904.0, None, None, None], ['2019-11-28', 109.1, 109.1, 107.5, 108.1, None, 44677.0, 4827719.0, None, None, None], ['2019-11-27', 109.9, 110.0, 108.0, 108.6, None, 80332.0, 8731068.0, None, None, None], ['2019-11-26', 108.6, 110.0, 107.5, 109.5, None, 280313.0, 30604384.0, None, None, None], ['2019-11-25', 107.4, 109.1, 106.4, 108.1, None, 101435.0, 10965700.0, None, None, None], ['2019-11-22', 106.1, 107.1, 105.9, 106.6, None, 116214.0, 12391521.0, None, None, None], ['2019-11-21', 105.5, 106.9, 104.6, 106.0, None, 135671.0, 14383910.0, None, None, None], ['2019-11-20', 104.5, 107.4, 104.2, 106.0, None, 148853.0, 15777142.0, None, None, None], ['2019-11-19', 104.9, 105.3, 103.9, 104.5, None, 86228.0, 9006823.0, None, None, None], ['2019-11-18', 104.0, 105.5, 103.8, 104.8, None, 100901.0, 10565891.0, None, None, None], ['2019-11-15', 102.0, 104.1, 101.9, 104.0, None, 102061.0, 10555093.0, None, None, None], ['2019-11-14', 102.6, 102.9, 100.4, 101.6, None, 89727.0, 9123501.0, None, None, None], ['2019-11-13', 100.4, 102.3, 100.4, 102.3, None, 106648.0, 10854356.0, None, None, None], ['2019-11-12', 101.1, 102.0, 98.9, 101.0, None, 128193.0, 12877095.0, None, None, None], ['2019-11-11', 102.1, 103.8, 100.6, 100.8, None, 95512.0, 9684446.0, None, None, None], ['2019-11-08', 101.8, 102.8, 100.2, 101.8, None, 127304.0, 12917154.0, None, None, None], ['2019-11-07', 103.7, 104.1, 101.2, 102.2, None, 145112.0, 14855882.0, None, None, None], ['2019-11-06', 100.5, 103.2, 99.4, 103.2, None, 132904.0, 13585029.0, None, None, None], ['2019-11-05', 99.65, 100.7, 98.4, 100.3, None, 138382.0, 13834720.0, None, None, None], ['2019-11-04', 98.95, 100.2, 97.1, 99.35, None, 140821.0, 13931740.0, None, None, None], ['2019-11-01', 98.5, 99.65, 98.15, 98.65, None, 84471.0, 8332533.0, None, None, None], ['2019-10-31', 98.05, 99.15, 97.75, 97.75, None, 105779.0, 10379837.0, None, None, None], ['2019-10-30', 96.45, 98.85, 96.0, 98.05, None, 101101.0, 9910827.0, None, None, None], ['2019-10-29', 95.5, 96.55, 94.45, 96.1, None, 113338.0, 10820482.0, None, None, None], ['2019-10-28', 97.7, 97.95, 95.35, 95.85, None, 113497.0, 10914759.0, None, None, None], ['2019-10-25', 96.1, 97.55, 95.4, 97.0, None, 155040.0, 14968588.0, None, None, None], ['2019-10-24', 94.15, 96.4, 92.8, 96.0, None, 275194.0, 26191594.0, None, None, None], ['2019-10-23', 100.4, 100.8, 89.35, 92.55, None, 605001.0, 56532324.0, None, None, None], ['2019-10-22', 101.7, 102.7, 99.9, 101.5, None, 90905.0, 9234451.0, None, None, None], ['2019-10-21', 103.7, 104.1, 100.7, 101.4, None, 108567.0, 11048451.0, None, None, None], ['2019-10-18', 103.9, 104.7, 103.2, 103.7, None, 73189.0, 7598035.5, None, None, None], ['2019-10-17', 103.2, 104.5, 102.9, 103.8, None, 115138.0, 11944767.0, None, None, None], ['2019-10-16', 104.1, 104.7, 101.4, 103.2, None, 116588.0, 12026270.0, None, None, None], ['2019-10-15', 104.0, 104.8, 102.8, 103.9, None, 79933.0, 8308760.5, None, None, None], ['2019-10-14', 102.4, 103.3, 101.1, 103.2, None, 83291.0, 8556893.0, None, None, None], ['2019-10-11', 103.0, 103.7, 101.1, 102.4, None, 124625.0, 12751459.0, None, None, None], ['2019-10-10', 107.0, 107.0, 101.9, 102.5, None, 204279.0, 21027192.0, None, None, None], ['2019-10-09', 106.3, 107.7, 105.5, 107.0, None, 94098.0, 10050758.0, None, None, None], ['2019-10-08', 109.5, 109.9, 106.3, 106.5, None, 97553.0, 10483011.0, None, None, None], ['2019-10-07', 108.5, 110.3, 107.5, 108.8, None, 97154.0, 10561664.0, None, None, None], ['2019-10-04', 105.0, 109.5, 104.4, 108.2, None, 198283.0, 21355196.0, None, None, None], ['2019-10-02', 104.9, 111.5, 103.7, 105.6, None, 342563.0, 36835516.0, None, None, None], ['2019-10-01', 105.3, 105.9, 103.8, 104.8, None, 132282.0, 13861037.0, None, None, None], ['2019-09-30', 104.2, 105.1, 102.7, 104.6, None, 92395.0, 9628660.0, None, None, None], ['2019-09-27', 103.7, 104.0, 102.5, 103.5, None, 74036.0, 7656140.5, None, None, None], ['2019-09-26', 102.3, 104.3, 101.5, 103.8, None, 78159.0, 8096350.5, None, None, None], ['2019-09-25', 104.0, 104.2, 100.1, 101.5, None, 169893.0, 17234866.0, None, None, None], ['2019-09-24', 103.6, 105.2, 103.6, 105.0, None, 61623.0, 6452339.0, None, None, None], ['2019-09-23', 103.1, 105.1, 102.8, 103.8, None, 69848.0, 7263194.5, None, None, None], ['2019-09-20', 104.9, 105.0, 101.8, 103.3, None, 198709.0, 20505680.0, None, None, None], ['2019-09-19', 102.7, 104.8, 102.1, 104.5, None, 125080.0, 13001448.0, None, None, None], ['2019-09-18', 102.4, 104.0, 102.2, 103.3, None, 117228.0, 12104268.0, None, None, None], ['2019-09-17', 99.7, 102.1, 98.7, 102.0, None, 135793.0, 13767140.0, None, None, None], ['2019-09-16', 99.0, 99.75, 97.85, 99.35, None, 112585.0, 11171601.0, None, None, None], ['2019-09-13', 102.2, 102.3, 98.1, 98.9, None, 130746.0, 12958266.0, None, None, None], ['2019-09-12', 101.9, 102.8, 100.6, 101.9, None, 119437.0, 12145270.0, None, None, None], ['2019-09-11', 100.7, 101.7, 99.0, 101.0, None, 171872.0, 17257904.0, None, None, None], ['2019-09-10', 105.5, 105.5, 99.75, 100.5, None, 271425.0, 27466300.0, None, None, None], ['2019-09-09', 109.1, 109.7, 105.7, 105.7, None, 86187.0, 9187726.0, None, None, None], ['2019-09-06', 106.1, 109.6, 106.0, 108.7, None, 101489.0, 11006270.0, None, None, None], ['2019-09-05', 109.0, 110.9, 106.2, 106.4, None, 91265.0, 9771449.0, None, None, None], ['2019-09-04', 107.4, 109.1, 107.1, 108.3, None, 94641.0, 10247516.0, None, None, None], ['2019-09-03', 107.4, 107.7, 105.9, 107.0, None, 105012.0, 11237644.0, None, None, None], ['2019-09-02', 104.5, 107.5, 104.5, 106.7, None, 91105.0, 9729992.0, None, None, None], ['2019-08-30', 105.7, 105.7, 104.4, 104.9, None, 120743.0, 12667534.0, None, None, None], ['2019-08-29', 107.0, 107.6, 105.7, 105.7, None, 87491.0, 9291293.0, None, None, None], ['2019-08-28', 105.0, 107.0, 104.4, 106.6, None, 110155.0, 11686854.0, None, None, None], ['2019-08-27', 103.0, 105.2, 102.6, 105.1, None, 165727.0, 17367660.0, None, None, None], ['2019-08-26', 102.8, 103.1, 101.4, 103.0, None, 63857.0, 6556853.5, None, None, None], ['2019-08-23', 103.4, 105.0, 102.8, 102.8, None, 97791.0, 10120408.0, None, None, None], ['2019-08-22', 104.6, 106.7, 103.3, 103.3, None, 140365.0, 14598704.0, None, None, None], ['2019-08-21', 101.2, 104.3, 100.9, 103.6, None, 111234.0, 11480594.0, None, None, None], ['2019-08-20', 101.4, 102.9, 100.5, 100.6, None, 111166.0, 11268671.0, None, None, None], ['2019-08-19', 100.3, 101.3, 98.2, 101.2, None, 131618.0, 13223834.0, None, None, None], ['2019-08-16', 98.35, 99.4, 97.15, 99.3, None, 106762.0, 10549874.0, None, None, None], ['2019-08-15', 100.2, 101.0, 96.45, 97.9, None, 133330.0, 13092741.0, None, None, None], ['2019-08-14', 99.55, 103.1, 99.3, 100.8, None, 192752.0, 19524066.0, None, None, None], ['2019-08-13', 99.05, 99.6, 97.55, 98.75, None, 113097.0, 11171934.0, None, None, None], ['2019-08-12', 100.0, 101.6, 98.2, 98.95, None, 111146.0, 11031779.0, None, None, None], ['2019-08-09', 99.2, 104.3, 94.4, 99.05, None, 217386.0, 21511178.0, None, None, None], ['2019-08-08', 95.35, 95.35, 94.2, 95.1, None, 110482.0, 10474803.0, None, None, None], ['2019-08-07', 94.15, 95.05, 93.05, 93.9, None, 119157.0, 11200026.0, None, None, None], ['2019-08-06', 93.65, 95.15, 93.25, 93.25, None, 119714.0, 11218618.0, None, None, None], ['2019-08-05', 96.35, 96.35, 92.75, 94.05, None, 232748.0, 21909462.0, None, None, None], ['2019-08-02', 99.95, 100.8, 97.25, 97.25, None, 124704.0, 12224533.0, None, None, None], ['2019-08-01', 99.6, 100.7, 99.3, 100.5, None, 102399.0, 10267086.0, None, None, None], ['2019-07-31', 99.0, 99.75, 98.35, 99.45, None, 106057.0, 10535986.0, None, None, None], ['2019-07-30', 100.3, 100.4, 98.85, 99.2, None, 117634.0, 11712535.0, None, None, None], ['2019-07-29', 98.95, 100.4, 98.75, 99.85, None, 104305.0, 10408428.0, None, None, None], ['2019-07-26', 96.5, 99.3, 96.15, 99.0, None, 116311.0, 11474417.0, None, None, None], ['2019-07-25', 98.35, 99.5, 96.9, 97.25, None, 84809.0, 8301676.5, None, None, None], ['2019-07-24', 98.45, 98.95, 96.65, 97.5, None, 111280.0, 10851049.0, None, None, None], ['2019-07-23', 97.2, 98.2, 97.05, 98.1, None, 91724.0, 8971253.0, None, None, None], ['2019-07-22', 97.7, 98.05, 96.45, 97.1, None, 106134.0, 10314239.0, None, None, None], ['2019-07-19', 98.0, 98.35, 96.8, 97.5, None, 110757.0, 10795196.0, None, None, None], ['2019-07-18', 97.05, 98.5, 96.35, 97.9, None, 138280.0, 13508944.0, None, None, None], ['2019-07-17', 95.3, 98.6, 94.6, 97.3, None, 221229.0, 21534144.0, None, None, None], ['2019-07-16', 93.0, 98.6, 92.65, 95.3, None, 278130.0, 26587740.0, None, None, None], ['2019-07-15', 84.8, 94.1, 84.8, 93.6, None, 481793.0, 43283072.0, None, None, None], ['2019-07-12', 86.15, 86.2, 84.45, 84.95, None, 111137.0, 9448958.0, None, None, None], ['2019-07-11', 85.7, 87.15, 85.65, 86.15, None, 162794.0, 14041185.0, None, None, None], ['2019-07-10', 86.05, 86.55, 84.15, 85.75, None, 116226.0, 9947223.0, None, None, None], ['2019-07-09', 85.4, 87.6, 85.4, 86.2, None, 104420.0, 9026189.0, None, None, None], ['2019-07-08', 85.75, 86.4, 85.2, 85.9, None, 63967.0, 5495242.5, None, None, None], ['2019-07-05', 87.95, 88.25, 84.9, 85.95, None, 124957.0, 10782292.0, None, None, None], ['2019-07-04', 88.05, 88.3, 86.9, 88.05, None, 98273.0, 8621586.0, None, None, None], ['2019-07-03', 86.6, 88.45, 86.45, 88.3, None, 130283.0, 11450014.0, None, None, None], ['2019-07-02', 85.95, 86.5, 85.35, 86.5, None, 150270.0, 12952523.0, None, None, None], ['2019-07-01', 88.6, 88.6, 85.15, 85.95, None, 219363.0, 18866410.0, None, None, None], ['2019-06-28', 84.5, 86.85, 83.8, 86.75, None, 230574.0, 19812290.0, None, None, None], ['2019-06-27', 84.8, 84.8, 83.9, 84.35, None, 108133.0, 9116091.0, None, None, None], ['2019-06-26', 85.85, 86.1, 84.15, 84.35, None, 113137.0, 9582973.0, None, None, None], ['2019-06-25', 86.95, 87.25, 84.8, 86.25, None, 156907.0, 13487083.0, None, None, None], ['2019-06-24', 86.9, 88.05, 86.2, 87.2, None, 117151.0, 10211707.0, None, None, None], ['2019-06-21', 88.5, 88.8, 86.85, 86.9, None, 281537.0, 24608656.0, None, None, None], ['2019-06-20', 89.0, 90.35, 88.95, 89.2, None, 110960.0, 9924531.0, None, None, None], ['2019-06-19', 92.55, 92.65, 88.3, 89.15, None, 239831.0, 21474952.0, None, None, None], ['2019-06-18', 91.7, 94.65, 90.55, 94.35, None, 209043.0, 19579046.0, None, None, None], ['2019-06-17', 89.55, 90.35, 89.15, 90.35, None, 112315.0, 10108563.0, None, None, None], ['2019-06-14', 89.0, 89.55, 88.15, 89.55, None, 96679.0, 8632357.0, None, None, None], ['2019-06-13', 90.05, 90.55, 88.95, 89.5, None, 77479.0, 6936254.0, None, None, None], ['2019-06-12', 88.8, 90.05, 87.95, 89.95, None, 147576.0, 13225749.0, None, None, None], ['2019-06-11', 88.85, 89.45, 87.5, 88.5, None, 227941.0, 20185300.0, None, None, None], ['2019-06-07', 85.9, 87.2, 85.45, 86.95, None, 138663.0, 12010778.0, None, None, None], ['2019-06-06', 85.4, 86.05, 85.0, 85.5, None, 141747.0, 12126871.0, None, None, None], ['2019-06-05', 83.8, 86.0, 83.6, 85.85, None, 196908.0, 16831752.0, None, None, None], ['2019-06-04', 84.0, 84.05, 81.95, 83.8, None, 194026.0, 16189447.0, None, None, None], ['2019-06-03', 83.85, 84.6, 83.15, 84.6, None, 211906.0, 17831666.0, None, None, None], ['2019-05-31', 84.2, 85.15, 82.4, 84.25, None, 224136.0, 18772682.0, None, None, None], ['2019-05-30', 84.0, 85.9, 84.0, 85.85, None, 117606.0, 10048622.0, None, None, None], ['2019-05-29', 86.85, 87.7, 83.65, 84.1, None, 253284.0, 21473838.0, None, None, None], ['2019-05-28', 87.5, 88.4, 86.25, 87.4, None, 2957391.0, 258453488.0, None, None, None], ['2019-05-27', 88.2, 88.4, 87.65, 87.85, None, 85999.0, 7560564.5, None, None, None], ['2019-05-24', 88.5, 88.85, 87.5, 88.1, None, 143958.0, 12681718.0, None, None, None], ['2019-05-23', 88.0, 88.5, 87.25, 88.2, None, 185157.0, 16297127.0, None, None, None], ['2019-05-22', 87.7, 89.35, 87.7, 88.85, None, 171924.0, 15233910.0, None, None, None], ['2019-05-21', 89.35, 89.45, 87.7, 88.1, None, 165632.0, 14624028.0, None, None, None], ['2019-05-20', 89.5, 89.85, 88.45, 88.55, None, 134676.0, 11985496.0, None, None, None], ['2019-05-17', 89.4, 89.4, 88.55, 89.25, None, 117480.0, 10466561.0, None, None, None], ['2019-05-16', 86.6, 89.3, 86.5, 89.2, None, 159067.0, 14088797.0, None, None, None], ['2019-05-15', 86.35, 87.35, 85.1, 86.65, None, 145855.0, 12611298.0, None, None, None], ['2019-05-14', 85.1, 87.1, 83.8, 86.0, None, 297843.0, 25587236.0, None, None, None], ['2019-05-13', 87.5, 87.9, 85.85, 86.75, None, 122313.0, 10598375.0, None, None, None], ['2019-05-10', 86.55, 87.65, 86.25, 86.9, None, 123258.0, 10704915.0, None, None, None], ['2019-05-09', 86.95, 87.15, 85.25, 85.75, None, 156083.0, 13415858.0, None, None, None], ['2019-05-08', 88.4, 88.95, 85.45, 87.0, None, 252666.0, 22022720.0, None, None, None], ['2019-05-07', 89.5, 90.6, 87.6, 87.8, None, 306539.0, 27240006.0, None, None, None], ['2019-05-06', 87.1, 89.05, 84.9, 89.05, None, 160083.0, 14049181.0, None, None, None], ['2019-05-03', 87.05, 87.5, 86.65, 87.2, None, 138284.0, 12036856.0, None, None, None], ['2019-05-02', 87.6, 87.7, 85.45, 86.55, None, 216631.0, 18702266.0, None, None, None], ['2019-04-30', 87.6, 88.85, 86.7, 87.55, None, 181575.0, 15903907.0, None, None, None], ['2019-04-29', 86.7, 87.65, 85.9, 87.5, None, 150210.0, 13060972.0, None, None, None], ['2019-04-26', 84.4, 86.65, 84.4, 86.3, None, 190048.0, 16341582.0, None, None, None], ['2019-04-25', None, 84.6, 83.25, 84.15, None, 148669.0, 12492975.0, None, None, None], ['2019-04-24', None, 84.4, 83.0, 83.5, None, 220545.0, 18418288.0, None, None, None], ['2019-04-23', None, 83.45, 80.85, 82.45, None, 204897.0, 16892655.0, None, None, None]], 'collapse': None, 'order': None, 'database_id': 6129}}\n"
          ]
        }
      ]
    },
    {
      "cell_type": "code",
      "execution_count": 7,
      "source": [
        "# Inspect the JSON structure of the object you created, and take note of how nested it is,\n",
        "# as well as the overall structure\n",
        "print(r.json())"
      ],
      "outputs": [
        {
          "output_type": "stream",
          "name": "stdout",
          "text": [
            "{'dataset': {'id': 10095370, 'dataset_code': 'AFX_X', 'database_code': 'FSE', 'name': 'Carl Zeiss Meditec (AFX_X)', 'description': 'Stock Prices for Carl Zeiss Meditec (2020-11-02) from the Frankfurt Stock Exchange.<br><br>Trading System: Xetra<br><br>ISIN: DE0005313704', 'refreshed_at': '2020-12-01T14:48:09.907Z', 'newest_available_date': '2020-12-01', 'oldest_available_date': '2000-06-07', 'column_names': ['Date', 'Open', 'High', 'Low', 'Close', 'Change', 'Traded Volume', 'Turnover', 'Last Price of the Day', 'Daily Traded Units', 'Daily Turnover'], 'frequency': 'daily', 'type': 'Time Series', 'premium': False, 'limit': None, 'transform': None, 'column_index': None, 'start_date': '2019-04-22', 'end_date': '2020-12-01', 'data': [['2020-12-01', 112.2, 112.2, 111.5, 112.0, None, 51.0, 5703.0, None, None, None], ['2020-11-30', 111.0, 113.6, 111.0, 112.1, None, 315.0, 35111.5, None, None, None], ['2020-11-27', 111.0, 111.5, 109.5, 111.2, None, 155.0, 17168.5, None, None, None], ['2020-11-26', 111.3, 112.0, 110.5, 111.6, None, 254.0, 28367.5, None, None, None], ['2020-11-25', 111.4, 111.4, 110.1, 110.1, None, 294.0, 32435.8, None, None, None], ['2020-11-24', 116.1, 116.8, 110.5, 113.5, None, 3184.0, 361404.4, None, None, None], ['2020-11-23', 118.0, 118.8, 116.3, 116.3, None, 1590.0, 187525.0, None, None, None], ['2020-11-20', 116.5, 118.0, 116.5, 117.5, None, 295.0, 34736.0, None, None, None], ['2020-11-19', 115.6, 115.6, 115.6, 115.6, None, 0.0, 0.0, None, None, None], ['2020-11-18', 115.8, 115.8, 115.0, 115.0, None, 25.0, 2875.0, None, None, None], ['2020-11-17', 117.9, 117.9, 115.7, 115.7, None, 381.0, 44235.6, None, None, None], ['2020-11-16', 118.9, 119.8, 118.1, 118.1, None, 266.0, 31637.8, None, None, None], ['2020-11-13', 115.4, 117.2, 115.4, 117.2, None, 162.0, 18892.3, None, None, None], ['2020-11-12', 117.1, 117.5, 116.4, 116.4, None, 185.0, 21587.5, None, None, None], ['2020-11-11', 115.0, 117.3, 115.0, 116.9, None, 353.0, 41227.0, None, None, None], ['2020-11-10', 118.4, 118.4, 114.6, 114.6, None, 93.0, 10801.6, None, None, None], ['2020-11-09', 116.1, 119.9, 116.1, 119.4, None, 494.0, 58880.6, None, None, None], ['2020-11-06', 115.2, 115.8, 114.8, 115.1, None, 190.0, 21831.0, None, None, None], ['2020-11-05', 114.7, 116.2, 114.7, 115.4, None, 382.0, 44272.4, None, None, None], ['2020-11-04', 109.8, 113.8, 109.8, 113.8, None, 69.0, 7804.7, None, None, None], ['2020-11-03', 108.4, 110.0, 108.4, 110.0, None, 176.0, 19259.0, None, None, None], ['2020-11-02', 111.3, 111.6, 108.1, 108.1, None, 362.0, 39844.5, None, None, None], ['2020-10-30', 107.2, 112.9, 107.2, 110.7, None, 99.0, 11001.5, None, None, None], ['2020-10-29', 112.1, 113.0, 106.7, 109.5, None, 395.0, 43369.2, None, None, None], ['2020-10-28', 113.7, 113.7, 106.1, 111.8, None, 861.0, 94248.9, None, None, None], ['2020-10-27', 115.6, 115.8, 114.9, 114.9, None, 360.0, 41598.0, None, None, None], ['2020-10-26', 117.5, 117.5, 113.4, 113.7, None, 694.0, 80177.1, None, None, None], ['2020-10-23', 120.4, 121.1, 115.0, 118.5, None, 813.0, 96193.0, None, None, None], ['2020-10-22', 119.5, 121.9, 118.8, 121.5, None, 260.0, 31396.4, None, None, None], ['2020-10-21', 121.8, 121.9, 119.9, 120.6, None, 2148.0, 258027.5, None, None, None], ['2020-10-20', 122.1, 123.2, 121.8, 123.2, None, 55.0, 6706.0, None, None, None], ['2020-10-19', 121.6, 123.7, 121.6, 122.8, None, 264.0, 32417.3, None, None, None], ['2020-10-16', 118.6, 122.4, 118.6, 121.4, None, 320.0, 39037.3, None, None, None], ['2020-10-15', 121.0, 121.2, 118.5, 118.7, None, 853.0, 102179.6, None, None, None], ['2020-10-14', 118.6, 122.1, 118.6, 122.1, None, 507.0, 61486.3, None, None, None], ['2020-10-13', 120.3, 120.9, 117.8, 118.7, None, 351.0, 41428.7, None, None, None], ['2020-10-12', 115.8, 120.6, 115.8, 120.5, None, 331.0, 39564.3, None, None, None], ['2020-10-09', 114.0, 116.2, 113.9, 116.2, None, 1298.0, 149551.9, None, None, None], ['2020-10-08', 112.1, 114.5, 112.1, 114.5, None, 392.0, 44587.1, None, None, None], ['2020-10-07', 112.0, 112.7, 111.3, 112.7, None, 202.0, 22687.6, None, None, None], ['2020-10-06', 110.4, 111.8, 110.4, 111.8, None, 450.0, 50030.0, None, None, None], ['2020-10-05', 109.3, 110.9, 109.3, 110.9, None, 64.0, 7068.6, None, None, None], ['2020-10-02', 108.0, 109.6, 108.0, 109.6, None, 177.0, 19153.5, None, None, None], ['2020-10-01', 108.1, 109.5, 108.1, 109.5, None, 70.0, 7650.0, None, None, None], ['2020-09-30', 108.6, 108.6, 106.8, 106.8, None, 271.0, 29094.6, None, None, None], ['2020-09-29', 106.9, 109.4, 106.9, 109.4, None, 76.0, 8253.9, None, None, None], ['2020-09-28', 105.0, 107.3, 105.0, 107.1, None, 472.0, 50326.6, None, None, None], ['2020-09-25', 103.2, 104.4, 103.0, 103.7, None, 763.0, 78994.1, None, None, None], ['2020-09-24', 100.5, 103.8, 100.5, 103.8, None, 152.0, 15708.0, None, None, None], ['2020-09-23', 101.0, 101.7, 100.6, 101.7, None, 368.0, 37374.3, None, None, None], ['2020-09-22', 98.5, 100.0, 98.5, 100.0, None, 190.0, 18865.0, None, None, None], ['2020-09-21', 101.7, 101.7, 98.2, 98.2, None, 300.0, 30299.0, None, None, None], ['2020-09-18', 100.1, 101.2, 100.1, 101.2, None, 209.0, 21100.8, None, None, None], ['2020-09-17', 96.1, 102.0, 96.0, 102.0, None, 433.0, 42836.5, None, None, None], ['2020-09-16', 93.1, 95.95, 93.1, 95.95, None, 45.0, 4241.25, None, None, None], ['2020-09-15', 92.5, 92.5, 92.15, 92.4, None, 167.0, 15414.45, None, None, None], ['2020-09-14', 93.1, 93.1, 93.0, 93.0, None, 25.0, 2326.0, None, None, None], ['2020-09-11', 93.85, 93.85, 92.5, 92.5, None, 70.0, 6475.0, None, None, None], ['2020-09-10', 95.6, 95.6, 94.55, 94.55, None, 110.0, 10495.5, None, None, None], ['2020-09-09', 94.75, 95.85, 94.4, 95.85, None, 411.0, 38950.25, None, None, None], ['2020-09-08', 96.3, 96.3, 93.3, 94.75, None, 165.0, 15516.5, None, None, None], ['2020-09-07', 93.5, 95.95, 93.5, 95.95, None, 160.0, 15074.5, None, None, None], ['2020-09-04', 94.5, 94.5, 93.15, 93.15, None, 350.0, 32790.25, None, None, None], ['2020-09-03', 99.1, 99.1, 94.8, 95.0, None, 382.0, 36699.7, None, None, None], ['2020-09-02', 94.75, 99.05, 94.75, 98.75, None, 582.0, 56936.55, None, None, None], ['2020-09-01', 94.6, 95.0, 94.55, 94.55, None, 385.0, 36427.5, None, None, None], ['2020-08-31', 94.75, 94.75, 94.35, 94.35, None, 175.0, 16541.25, None, None, None], ['2020-08-28', 95.0, 95.5, 93.8, 95.3, None, 98882.0, 9370950.35, None, None, None], ['2020-08-27', 95.7, 96.0, 94.5, 94.8, None, 142753.0, 13576918.75, None, None, None], ['2020-08-26', 94.25, 95.5, 94.05, 95.4, None, 82485.0, 7827754.45, None, None, None], ['2020-08-25', 93.85, 94.75, 93.45, 94.5, None, 89082.0, 8397454.8, None, None, None], ['2020-08-24', 92.3, 94.5, 92.3, 93.5, None, 119117.0, 11168837.75, None, None, None], ['2020-08-21', 92.15, 92.2, 90.65, 91.9, None, 65210.0, 5976477.15, None, None, None], ['2020-08-20', 91.0, 92.4, 90.45, 92.15, None, 95493.0, 8763119.9, None, None, None], ['2020-08-19', 91.0, 92.2, 90.0, 91.65, None, 88102.0, 8063097.4, None, None, None], ['2020-08-18', 91.55, 92.0, 90.4, 91.0, None, 85470.0, 7789882.4, None, None, None], ['2020-08-17', 91.6, 91.95, 90.55, 91.9, None, 58566.0, 5357104.3, None, None, None], ['2020-08-14', 92.9, 93.25, 91.35, 91.85, None, 78700.0, 7257628.1, None, None, None], ['2020-08-13', 92.2, 93.0, 91.1, 92.85, None, 98209.0, 9080452.6, None, None, None], ['2020-08-12', 90.8, 92.95, 88.3, 92.65, None, 182444.0, 16598657.95, None, None, None], ['2020-08-11', 94.9, 95.4, 90.35, 90.75, None, 168948.0, 15524389.1, None, None, None], ['2020-08-10', 94.0, 96.0, 93.75, 94.55, None, 183320.0, 17388579.4, None, None, None], ['2020-08-07', 90.2, 93.15, 89.8, 92.95, None, 109450.0, 10126152.1, None, None, None], ['2020-08-06', 91.45, 92.0, 90.35, 91.1, None, 140089.0, 12778666.3, None, None, None], ['2020-08-05', 89.85, 91.85, 88.75, 91.85, None, 147638.0, 13413298.3, None, None, None], ['2020-08-04', 90.5, 91.1, 88.25, 89.05, None, 110318.0, 9813561.0, None, None, None], ['2020-08-03', 89.0, 90.5, 88.2, 90.0, None, 95661.0, 8591521.9, None, None, None], ['2020-07-31', 89.4, 90.95, 88.5, 88.65, None, 145927.0, 13058046.1, None, None, None], ['2020-07-30', 91.7, 91.75, 88.1, 89.6, None, 182764.0, 16464224.8, None, None, None], ['2020-07-29', 88.55, 92.25, 88.2, 92.25, None, 169549.0, 15522318.75, None, None, None], ['2020-07-28', 89.5, 89.75, 88.35, 88.85, None, 116461.0, 10345922.4, None, None, None], ['2020-07-27', 88.0, 89.55, 87.35, 89.15, None, 102146.0, 9082131.05, None, None, None], ['2020-07-24', 90.5, 90.5, 87.85, 87.9, None, 177031.0, 15683394.95, None, None, None], ['2020-07-23', 88.4, 91.55, 88.15, 91.55, None, 146866.0, 13280553.85, None, None, None], ['2020-07-22', 88.6, 89.1, 87.4, 88.75, None, 101234.0, 8954258.2, None, None, None], ['2020-07-21', 89.55, 89.95, 87.75, 88.5, None, 195028.0, 17331900.8, None, None, None], ['2020-07-20', 88.25, 89.5, 87.55, 88.95, None, 227635.0, 20134893.65, None, None, None], ['2020-07-17', 89.15, 90.5, 88.0, 88.4, None, 163078.0, 14464839.25, None, None, None], ['2020-07-16', 90.65, 90.65, 87.9, 88.95, None, 197755.0, 17652520.05, None, None, None], ['2020-07-15', 90.0, 91.7, 86.3, 91.7, None, 258220.0, 23077220.7, None, None, None], ['2020-07-14', 90.1, 90.15, 88.1, 89.2, None, 183507.0, 16350975.75, None, None, None], ['2020-07-13', 90.45, 91.15, 88.6, 91.05, None, 87454.0, 7915927.0, None, None, None], ['2020-07-10', 89.25, 91.55, 88.9, 89.9, None, 93540.0, 8453243.25, None, None, None], ['2020-07-09', 91.15, 91.35, 89.45, 89.55, None, 181776.0, 16405326.65, None, None, None], ['2020-07-08', 92.0, 92.55, 90.15, 90.3, None, 153582.0, 13970079.05, None, None, None], ['2020-07-07', 92.95, 93.65, 91.15, 92.5, None, 153153.0, 14109118.8, None, None, None], ['2020-07-06', 93.8, 93.9, 92.8, 93.8, None, 98508.0, 9199714.85, None, None, None], ['2020-07-03', 93.1, 93.85, 91.9, 92.35, None, 114471.0, 10617857.55, None, None, None], ['2020-07-02', 89.75, 93.8, 88.8, 92.85, None, 365676.0, 33662061.9, None, None, None], ['2020-07-01', 86.2, 89.25, 86.0, 89.25, None, 106604.0, 9438618.8, None, None, None], ['2020-06-30', 87.0, 87.15, 85.0, 86.8, None, 138372.0, 11944211.15, None, None, None], ['2020-06-29', 88.0, 88.85, 86.5, 87.05, None, 76589.0, 6688133.9, None, None, None], ['2020-06-26', 88.2, 89.4, 86.65, 88.05, None, 123809.0, 10922723.5, None, None, None], ['2020-06-25', 86.25, 88.25, 84.8, 87.8, None, 118166.0, 10302946.05, None, None, None], ['2020-06-24', 90.05, 90.25, 86.2, 86.2, None, 115847.0, 10143798.5, None, None, None], ['2020-06-23', 89.2, 91.0, 88.6, 89.95, None, 112453.0, 10108636.8, None, None, None], ['2020-06-22', 90.35, 90.7, 87.85, 88.55, None, 116991.0, 10394476.9, None, None, None], ['2020-06-19', 90.55, 91.8, 90.0, 91.25, None, 174766.0, 15936379.65, None, None, None], ['2020-06-18', 91.6, 91.85, 89.6, 90.05, None, 98019.0, 8859710.65, None, None, None], ['2020-06-17', 90.55, 92.15, 89.7, 91.45, None, 149331.0, 13655800.2, None, None, None], ['2020-06-16', 88.35, 90.75, 87.45, 90.65, None, 206243.0, 18478591.35, None, None, None], ['2020-06-15', 85.0, 86.9, 84.75, 86.35, None, 181008.0, 15502164.95, None, None, None], ['2020-06-12', 85.65, 87.9, 84.85, 86.4, None, 137604.0, 11931180.75, None, None, None], ['2020-06-11', 87.0, 87.65, 85.55, 86.3, None, 127406.0, 11026683.1, None, None, None], ['2020-06-10', 89.25, 90.1, 87.0, 87.8, None, 192426.0, 16965135.2, None, None, None], ['2020-06-09', 91.65, 93.25, 89.2, 89.35, None, 209173.0, 18983014.7, None, None, None], ['2020-06-08', 92.65, 92.65, 89.8, 91.7, None, 172403.0, 15698539.85, None, None, None], ['2020-06-05', 91.6, 93.3, 90.65, 93.15, None, 185077.0, 17116028.75, None, None, None], ['2020-06-04', 92.3, 92.8, 89.65, 91.4, None, 238456.0, 21679333.75, None, None, None], ['2020-06-03', 91.15, 93.3, 89.65, 92.9, None, 144255.0, 13282471.95, None, None, None], ['2020-06-02', 93.3, 93.5, 89.5, 91.0, None, 165446.0, 15036505.55, None, None, None], ['2020-05-29', 91.05, 93.1, 90.25, 92.1, None, 238162.0, 21887648.1, None, None, None], ['2020-05-28', 88.1, 91.7, 87.4, 91.45, None, 228651.0, 14809122.8, None, None, None], ['2020-05-27', 91.0, 91.2, 86.4, 87.3, None, 292506.0, 25754496.6, None, None, None], ['2020-05-26', 91.1, 93.35, 89.7, 90.85, None, 295589.0, 27089139.05, None, None, None], ['2020-05-25', 88.6, 92.7, 88.1, 92.6, None, 101335.0, 9240143.65, None, None, None], ['2020-05-22', 87.35, 88.5, 85.45, 87.65, None, 170878.0, 14839809.55, None, None, None], ['2020-05-21', 90.95, 90.95, 87.8, 87.9, None, 103051.0, 9147975.45, None, None, None], ['2020-05-20', 92.5, 93.3, 91.3, 91.8, None, 169820.0, 15657134.85, None, None, None], ['2020-05-19', 90.45, 92.8, 89.8, 92.5, None, 215504.0, 19826326.1, None, None, None], ['2020-05-18', 85.45, 89.95, 84.9, 89.65, None, 202085.0, 17790850.8, None, None, None], ['2020-05-15', 82.25, 84.85, 80.65, 83.8, None, 219726.0, 18211281.9, None, None, None], ['2020-05-14', 84.7, 85.3, 81.15, 81.35, None, 227178.0, 18722697.45, None, None, None], ['2020-05-13', 85.5, 87.9, 83.8, 85.75, None, 229089.0, 19608050.05, None, None, None], ['2020-05-12', 91.55, 91.55, 86.0, 86.0, None, 332344.0, 29093515.5, None, None, None], ['2020-05-11', 97.0, 97.7, 90.75, 91.8, None, 202683.0, 18762257.75, None, None, None], ['2020-05-08', 96.35, 97.35, 95.15, 95.3, None, 134071.0, 12869764.45, None, None, None], ['2020-05-07', 94.55, 97.25, 94.25, 96.0, None, 210096.0, 20200879.55, None, None, None], ['2020-05-06', 92.8, 94.7, 91.45, 93.95, None, 129479.0, 12095616.85, None, None, None], ['2020-05-05', 88.9, 92.6, 88.25, 92.6, None, 131163.0, 12019019.15, None, None, None], ['2020-05-04', 87.65, 88.1, 85.95, 87.65, None, 168947.0, 14745103.15, None, None, None], ['2020-04-30', 91.6, 92.1, 89.9, 89.95, None, 137448.0, 12454130.55, None, None, None], ['2020-04-29', 90.0, 91.0, 87.85, 90.95, None, 143888.0, 12901979.9, None, None, None], ['2020-04-28', 92.0, 92.2, 89.15, 89.65, None, 163949.0, 14804941.85, None, None, None], ['2020-04-27', 95.05, 95.35, 92.1, 92.1, None, 109266.0, 10128133.7, None, None, None], ['2020-04-24', 94.4, 94.6, 92.35, 93.1, None, 111240.0, 10358166.75, None, None, None], ['2020-04-23', 94.75, 95.5, 92.7, 94.8, None, 123862.0, 11684265.45, None, None, None], ['2020-04-22', 92.75, 94.65, 91.6, 94.65, None, 126830.0, 11898048.5, None, None, None], ['2020-04-21', 93.4, 93.95, 91.5, 91.5, None, 115152.0, 10603440.3, None, None, None], ['2020-04-20', 94.0, 94.65, 91.9, 94.15, None, 124634.0, 11640880.35, None, None, None], ['2020-04-17', 93.4, 94.05, 91.85, 92.9, None, 185554.0, 17165035.1, None, None, None], ['2020-04-16', 91.9, 92.75, 90.7, 91.45, None, 162831.0, 14907520.55, None, None, None], ['2020-04-15', 94.0, 94.6, 90.15, 90.95, None, 204001.0, 18647943.8, None, None, None], ['2020-04-14', 97.5, 98.0, 93.35, 94.05, None, 147594.0, 13964369.1, None, None, None], ['2020-04-09', 93.1, 95.4, 92.05, 95.4, None, 161578.0, 15199731.2, None, None, None], ['2020-04-08', 90.2, 92.25, 89.8, 92.2, None, 152911.0, 14008042.75, None, None, None], ['2020-04-07', 92.0, 92.55, 88.9, 89.5, None, 218796.0, 19809733.65, None, None, None], ['2020-04-06', 86.35, 89.65, 86.25, 89.65, None, 165074.0, 14584495.75, None, None, None], ['2020-04-03', 83.1, 85.45, 82.5, 84.0, None, 184124.0, 15495174.4, None, None, None], ['2020-04-02', 86.0, 87.15, 79.5, 82.5, None, 300359.0, 24916457.15, None, None, None], ['2020-04-01', 86.5, 86.9, 85.0, 86.1, None, 192187.0, 16541381.35, None, None, None], ['2020-03-31', 92.0, 92.65, 88.15, 88.35, None, 311491.0, 27892906.55, None, None, None], ['2020-03-30', 85.4, 88.9, 83.1, 88.9, None, 167955.0, 14624880.3, None, None, None], ['2020-03-27', 89.0, 90.85, 83.5, 83.95, None, 231618.0, 19986099.3, None, None, None], ['2020-03-26', 81.5, 91.05, 81.5, 91.05, None, 274322.0, 23971500.55, None, None, None], ['2020-03-25', 82.5, 90.4, 80.6, 83.1, None, 284087.0, 23870691.15, None, None, None], ['2020-03-24', 79.2, 79.45, 76.6, 79.45, None, 256310.0, 20107995.1, None, None, None], ['2020-03-23', 74.5, 77.05, 72.9, 75.0, None, 187013.0, 14032458.1, None, None, None], ['2020-03-20', 76.65, 82.35, 75.7, 78.25, None, 446534.0, 34997042.95, None, None, None], ['2020-03-19', 69.15, 74.7, 67.7, 73.45, None, 272648.0, 19466640.1, None, None, None], ['2020-03-18', 74.5, 75.25, 69.55, 69.7, None, 341817.0, 24444114.6, None, None, None], ['2020-03-17', 79.0, 80.1, 73.5, 75.1, None, 265313.0, 20046246.2, None, None, None], ['2020-03-16', 75.0, 76.9, 71.45, 76.15, None, 422533.0, 31664759.85, None, None, None], ['2020-03-13', 77.75, 84.05, 76.85, 78.85, None, 457906.0, 36529317.4, None, None, None], ['2020-03-12', 77.75, 81.65, 75.8, 76.45, None, 428846.0, 33545984.85, None, None, None], ['2020-03-11', 87.6, 88.45, 83.85, 84.3, None, 250339.0, 21276696.5, None, None, None], ['2020-03-10', 88.25, 90.3, 86.0, 86.8, None, 324702.0, 28663267.75, None, None, None], ['2020-03-09', 87.65, 92.15, 85.1, 87.2, None, 392049.0, 34832184.95, None, None, None], ['2020-03-06', 95.0, 95.1, 91.9, 94.15, None, 211996.0, 19868077.2, None, None, None], ['2020-03-05', 101.3, 102.6, 96.35, 97.2, None, 230406.0, 22585334.7, None, None, None], ['2020-03-04', 98.3, 100.5, 97.55, 100.1, None, 251085.0, 24993655.35, None, None, None], ['2020-03-03', 97.1, 99.9, 95.55, 98.05, None, 435677.0, 42953287.0, None, None, None], ['2020-03-02', 96.5, 98.3, 93.55, 95.05, None, 285867.0, 27318381.65, None, None, None], ['2020-02-28', 90.05, 94.75, 89.65, 94.75, None, 468539.0, 43691138.55, None, None, None], ['2020-02-27', 97.95, 98.3, 93.75, 95.05, None, 253380.0, 24293170.5, None, None, None], ['2020-02-26', 98.5, 100.8, 96.35, 100.2, None, 371150.0, 36784605.3, None, None, None], ['2020-02-25', 105.6, 106.4, 100.6, 101.2, None, 250020.0, 25613306.6, None, None, None], ['2020-02-24', 104.0, 105.5, 102.2, 104.7, None, 211543.0, 22050204.4, None, None, None], ['2020-02-21', 110.1, 110.2, 107.7, 108.2, None, 119055.0, 12948891.0, None, None, None], ['2020-02-20', 111.3, 112.8, 109.9, 110.4, None, 139229.0, 15421757.0, None, None, None], ['2020-02-19', 110.3, 112.4, 109.5, 111.2, None, 138008.0, 15341487.0, None, None, None], ['2020-02-18', 107.2, 109.8, 107.0, 109.6, None, 111209.0, 12136682.0, None, None, None], ['2020-02-17', 108.9, 109.1, 107.6, 108.8, None, 71884.0, 7784747.5, None, None, None], ['2020-02-14', 109.2, 110.1, 108.2, 108.9, None, 127710.0, 13932329.0, None, None, None], ['2020-02-13', 110.0, 111.0, 107.6, 109.5, None, 175311.0, 19094774.0, None, None, None], ['2020-02-12', 112.4, 112.4, 109.7, 110.0, None, 153713.0, 16973868.0, None, None, None], ['2020-02-11', 110.1, 113.6, 109.3, 112.2, None, 266600.0, 29766104.0, None, None, None], ['2020-02-10', 114.0, 121.1, 107.0, 109.4, None, 449853.0, 50064696.0, None, None, None], ['2020-02-07', 116.4, 117.4, 114.1, 114.9, None, 158446.0, 18250740.0, None, None, None], ['2020-02-06', 117.0, 117.2, 114.7, 116.4, None, 98097.0, 11377620.0, None, None, None], ['2020-02-05', 116.4, 117.0, 115.8, 116.1, None, 141363.0, 16440834.0, None, None, None], ['2020-02-04', 112.1, 115.7, 111.7, 115.0, None, 214584.0, 24603160.0, None, None, None], ['2020-02-03', 110.0, 112.0, 109.3, 111.4, None, 231387.0, 25691706.0, None, None, None], ['2020-01-31', 112.5, 113.7, 110.1, 110.5, None, 257830.0, 28708798.0, None, None, None], ['2020-01-30', 116.8, 118.0, 112.8, 113.3, None, 198663.0, 22749126.0, None, None, None], ['2020-01-29', 118.3, 118.8, 117.4, 117.7, None, 88563.0, 10438738.0, None, None, None], ['2020-01-28', 118.8, 119.6, 115.2, 118.1, None, 134333.0, 15754191.0, None, None, None], ['2020-01-27', 119.6, 119.7, 117.9, 118.0, None, 110778.0, 13126700.0, None, None, None], ['2020-01-24', 119.5, 120.7, 118.6, 120.2, None, 102713.0, 12323204.0, None, None, None], ['2020-01-23', 120.2, 120.9, 118.8, 118.8, None, 92012.0, 11007938.0, None, None, None], ['2020-01-22', 120.2, 121.1, 119.2, 119.7, None, 74016.0, 8885031.0, None, None, None], ['2020-01-21', 121.4, 121.4, 118.9, 119.6, None, 98600.0, 11805317.0, None, None, None], ['2020-01-20', 121.2, 122.1, 120.7, 121.4, None, 63664.0, 7721389.5, None, None, None], ['2020-01-17', 119.9, 121.1, 119.3, 120.8, None, 63663.0, 7671528.0, None, None, None], ['2020-01-16', 120.4, 120.8, 119.0, 119.2, None, 66065.0, 7893356.5, None, None, None], ['2020-01-15', 119.5, 120.7, 119.1, 120.0, None, 111393.0, 13370345.0, None, None, None], ['2020-01-14', 117.6, 119.5, 116.7, 119.3, None, 105126.0, 12492392.0, None, None, None], ['2020-01-13', 118.0, 118.9, 117.0, 117.2, None, 84067.0, 9891618.0, None, None, None], ['2020-01-10', 119.6, 120.4, 117.3, 117.5, None, 102423.0, 12098654.0, None, None, None], ['2020-01-09', 118.4, 119.8, 117.5, 119.2, None, 134426.0, 15973124.0, None, None, None], ['2020-01-08', 114.2, 116.8, 114.0, 116.4, None, 82884.0, 9602366.0, None, None, None], ['2020-01-07', 114.4, 116.9, 114.3, 114.9, None, 98974.0, 11431904.0, None, None, None], ['2020-01-06', 112.0, 114.3, 111.7, 114.0, None, 95697.0, 10844169.0, None, None, None], ['2020-01-03', 112.8, 113.4, 112.0, 113.4, None, 82304.0, 9289987.0, None, None, None], ['2020-01-02', 114.0, 114.9, 112.7, 113.8, None, 143464.0, 16291666.0, None, None, None], ['2019-12-30', 116.4, 116.5, 113.7, 113.7, None, 60915.0, 6979033.0, None, None, None], ['2019-12-27', 116.0, 116.3, 115.0, 116.3, None, 62154.0, 7208475.5, None, None, None], ['2019-12-23', 115.0, 116.2, 114.6, 114.9, None, 66229.0, 7626266.1, None, None, None], ['2019-12-20', 115.9, 116.7, 114.4, 114.6, None, 185866.0, 21368077.0, None, None, None], ['2019-12-19', 115.8, 116.2, 114.9, 115.6, None, 124269.0, 14364060.2, None, None, None], ['2019-12-18', 115.4, 115.9, 114.3, 115.5, None, 124036.0, 14308979.8, None, None, None], ['2019-12-17', 113.4, 115.6, 113.1, 115.6, None, 198741.0, 22797197.4, None, None, None], ['2019-12-16', 111.9, 113.5, 111.1, 112.9, None, 123873.0, 13933520.7, None, None, None], ['2019-12-13', 113.0, 113.0, 110.5, 111.3, None, 115681.0, 12875607.7, None, None, None], ['2019-12-12', 113.0, 113.9, 111.4, 111.9, None, 169064.0, 18990658.0, None, None, None], ['2019-12-11', 113.8, 113.8, 110.9, 112.0, None, 149438.0, 16744868.0, None, None, None], ['2019-12-10', 114.0, 115.3, 110.0, 113.0, None, 219116.0, 24654700.0, None, None, None], ['2019-12-09', 105.1, 114.7, 105.1, 114.3, None, 405833.0, 45488588.0, None, None, None], ['2019-12-06', 106.6, 106.6, 99.6, 103.1, None, 561633.0, 57520904.0, None, None, None], ['2019-12-05', 110.1, 110.3, 109.2, 110.1, None, 69911.0, 7687537.5, None, None, None], ['2019-12-04', 108.6, 110.4, 108.5, 109.6, None, 91446.0, 10015437.0, None, None, None], ['2019-12-03', 107.7, 110.1, 107.3, 108.9, None, 130237.0, 14162319.0, None, None, None], ['2019-12-02', 111.0, 111.4, 107.2, 107.6, None, 144610.0, 15685797.0, None, None, None], ['2019-11-29', 108.2, 112.7, 108.1, 111.0, None, 168617.0, 18731904.0, None, None, None], ['2019-11-28', 109.1, 109.1, 107.5, 108.1, None, 44677.0, 4827719.0, None, None, None], ['2019-11-27', 109.9, 110.0, 108.0, 108.6, None, 80332.0, 8731068.0, None, None, None], ['2019-11-26', 108.6, 110.0, 107.5, 109.5, None, 280313.0, 30604384.0, None, None, None], ['2019-11-25', 107.4, 109.1, 106.4, 108.1, None, 101435.0, 10965700.0, None, None, None], ['2019-11-22', 106.1, 107.1, 105.9, 106.6, None, 116214.0, 12391521.0, None, None, None], ['2019-11-21', 105.5, 106.9, 104.6, 106.0, None, 135671.0, 14383910.0, None, None, None], ['2019-11-20', 104.5, 107.4, 104.2, 106.0, None, 148853.0, 15777142.0, None, None, None], ['2019-11-19', 104.9, 105.3, 103.9, 104.5, None, 86228.0, 9006823.0, None, None, None], ['2019-11-18', 104.0, 105.5, 103.8, 104.8, None, 100901.0, 10565891.0, None, None, None], ['2019-11-15', 102.0, 104.1, 101.9, 104.0, None, 102061.0, 10555093.0, None, None, None], ['2019-11-14', 102.6, 102.9, 100.4, 101.6, None, 89727.0, 9123501.0, None, None, None], ['2019-11-13', 100.4, 102.3, 100.4, 102.3, None, 106648.0, 10854356.0, None, None, None], ['2019-11-12', 101.1, 102.0, 98.9, 101.0, None, 128193.0, 12877095.0, None, None, None], ['2019-11-11', 102.1, 103.8, 100.6, 100.8, None, 95512.0, 9684446.0, None, None, None], ['2019-11-08', 101.8, 102.8, 100.2, 101.8, None, 127304.0, 12917154.0, None, None, None], ['2019-11-07', 103.7, 104.1, 101.2, 102.2, None, 145112.0, 14855882.0, None, None, None], ['2019-11-06', 100.5, 103.2, 99.4, 103.2, None, 132904.0, 13585029.0, None, None, None], ['2019-11-05', 99.65, 100.7, 98.4, 100.3, None, 138382.0, 13834720.0, None, None, None], ['2019-11-04', 98.95, 100.2, 97.1, 99.35, None, 140821.0, 13931740.0, None, None, None], ['2019-11-01', 98.5, 99.65, 98.15, 98.65, None, 84471.0, 8332533.0, None, None, None], ['2019-10-31', 98.05, 99.15, 97.75, 97.75, None, 105779.0, 10379837.0, None, None, None], ['2019-10-30', 96.45, 98.85, 96.0, 98.05, None, 101101.0, 9910827.0, None, None, None], ['2019-10-29', 95.5, 96.55, 94.45, 96.1, None, 113338.0, 10820482.0, None, None, None], ['2019-10-28', 97.7, 97.95, 95.35, 95.85, None, 113497.0, 10914759.0, None, None, None], ['2019-10-25', 96.1, 97.55, 95.4, 97.0, None, 155040.0, 14968588.0, None, None, None], ['2019-10-24', 94.15, 96.4, 92.8, 96.0, None, 275194.0, 26191594.0, None, None, None], ['2019-10-23', 100.4, 100.8, 89.35, 92.55, None, 605001.0, 56532324.0, None, None, None], ['2019-10-22', 101.7, 102.7, 99.9, 101.5, None, 90905.0, 9234451.0, None, None, None], ['2019-10-21', 103.7, 104.1, 100.7, 101.4, None, 108567.0, 11048451.0, None, None, None], ['2019-10-18', 103.9, 104.7, 103.2, 103.7, None, 73189.0, 7598035.5, None, None, None], ['2019-10-17', 103.2, 104.5, 102.9, 103.8, None, 115138.0, 11944767.0, None, None, None], ['2019-10-16', 104.1, 104.7, 101.4, 103.2, None, 116588.0, 12026270.0, None, None, None], ['2019-10-15', 104.0, 104.8, 102.8, 103.9, None, 79933.0, 8308760.5, None, None, None], ['2019-10-14', 102.4, 103.3, 101.1, 103.2, None, 83291.0, 8556893.0, None, None, None], ['2019-10-11', 103.0, 103.7, 101.1, 102.4, None, 124625.0, 12751459.0, None, None, None], ['2019-10-10', 107.0, 107.0, 101.9, 102.5, None, 204279.0, 21027192.0, None, None, None], ['2019-10-09', 106.3, 107.7, 105.5, 107.0, None, 94098.0, 10050758.0, None, None, None], ['2019-10-08', 109.5, 109.9, 106.3, 106.5, None, 97553.0, 10483011.0, None, None, None], ['2019-10-07', 108.5, 110.3, 107.5, 108.8, None, 97154.0, 10561664.0, None, None, None], ['2019-10-04', 105.0, 109.5, 104.4, 108.2, None, 198283.0, 21355196.0, None, None, None], ['2019-10-02', 104.9, 111.5, 103.7, 105.6, None, 342563.0, 36835516.0, None, None, None], ['2019-10-01', 105.3, 105.9, 103.8, 104.8, None, 132282.0, 13861037.0, None, None, None], ['2019-09-30', 104.2, 105.1, 102.7, 104.6, None, 92395.0, 9628660.0, None, None, None], ['2019-09-27', 103.7, 104.0, 102.5, 103.5, None, 74036.0, 7656140.5, None, None, None], ['2019-09-26', 102.3, 104.3, 101.5, 103.8, None, 78159.0, 8096350.5, None, None, None], ['2019-09-25', 104.0, 104.2, 100.1, 101.5, None, 169893.0, 17234866.0, None, None, None], ['2019-09-24', 103.6, 105.2, 103.6, 105.0, None, 61623.0, 6452339.0, None, None, None], ['2019-09-23', 103.1, 105.1, 102.8, 103.8, None, 69848.0, 7263194.5, None, None, None], ['2019-09-20', 104.9, 105.0, 101.8, 103.3, None, 198709.0, 20505680.0, None, None, None], ['2019-09-19', 102.7, 104.8, 102.1, 104.5, None, 125080.0, 13001448.0, None, None, None], ['2019-09-18', 102.4, 104.0, 102.2, 103.3, None, 117228.0, 12104268.0, None, None, None], ['2019-09-17', 99.7, 102.1, 98.7, 102.0, None, 135793.0, 13767140.0, None, None, None], ['2019-09-16', 99.0, 99.75, 97.85, 99.35, None, 112585.0, 11171601.0, None, None, None], ['2019-09-13', 102.2, 102.3, 98.1, 98.9, None, 130746.0, 12958266.0, None, None, None], ['2019-09-12', 101.9, 102.8, 100.6, 101.9, None, 119437.0, 12145270.0, None, None, None], ['2019-09-11', 100.7, 101.7, 99.0, 101.0, None, 171872.0, 17257904.0, None, None, None], ['2019-09-10', 105.5, 105.5, 99.75, 100.5, None, 271425.0, 27466300.0, None, None, None], ['2019-09-09', 109.1, 109.7, 105.7, 105.7, None, 86187.0, 9187726.0, None, None, None], ['2019-09-06', 106.1, 109.6, 106.0, 108.7, None, 101489.0, 11006270.0, None, None, None], ['2019-09-05', 109.0, 110.9, 106.2, 106.4, None, 91265.0, 9771449.0, None, None, None], ['2019-09-04', 107.4, 109.1, 107.1, 108.3, None, 94641.0, 10247516.0, None, None, None], ['2019-09-03', 107.4, 107.7, 105.9, 107.0, None, 105012.0, 11237644.0, None, None, None], ['2019-09-02', 104.5, 107.5, 104.5, 106.7, None, 91105.0, 9729992.0, None, None, None], ['2019-08-30', 105.7, 105.7, 104.4, 104.9, None, 120743.0, 12667534.0, None, None, None], ['2019-08-29', 107.0, 107.6, 105.7, 105.7, None, 87491.0, 9291293.0, None, None, None], ['2019-08-28', 105.0, 107.0, 104.4, 106.6, None, 110155.0, 11686854.0, None, None, None], ['2019-08-27', 103.0, 105.2, 102.6, 105.1, None, 165727.0, 17367660.0, None, None, None], ['2019-08-26', 102.8, 103.1, 101.4, 103.0, None, 63857.0, 6556853.5, None, None, None], ['2019-08-23', 103.4, 105.0, 102.8, 102.8, None, 97791.0, 10120408.0, None, None, None], ['2019-08-22', 104.6, 106.7, 103.3, 103.3, None, 140365.0, 14598704.0, None, None, None], ['2019-08-21', 101.2, 104.3, 100.9, 103.6, None, 111234.0, 11480594.0, None, None, None], ['2019-08-20', 101.4, 102.9, 100.5, 100.6, None, 111166.0, 11268671.0, None, None, None], ['2019-08-19', 100.3, 101.3, 98.2, 101.2, None, 131618.0, 13223834.0, None, None, None], ['2019-08-16', 98.35, 99.4, 97.15, 99.3, None, 106762.0, 10549874.0, None, None, None], ['2019-08-15', 100.2, 101.0, 96.45, 97.9, None, 133330.0, 13092741.0, None, None, None], ['2019-08-14', 99.55, 103.1, 99.3, 100.8, None, 192752.0, 19524066.0, None, None, None], ['2019-08-13', 99.05, 99.6, 97.55, 98.75, None, 113097.0, 11171934.0, None, None, None], ['2019-08-12', 100.0, 101.6, 98.2, 98.95, None, 111146.0, 11031779.0, None, None, None], ['2019-08-09', 99.2, 104.3, 94.4, 99.05, None, 217386.0, 21511178.0, None, None, None], ['2019-08-08', 95.35, 95.35, 94.2, 95.1, None, 110482.0, 10474803.0, None, None, None], ['2019-08-07', 94.15, 95.05, 93.05, 93.9, None, 119157.0, 11200026.0, None, None, None], ['2019-08-06', 93.65, 95.15, 93.25, 93.25, None, 119714.0, 11218618.0, None, None, None], ['2019-08-05', 96.35, 96.35, 92.75, 94.05, None, 232748.0, 21909462.0, None, None, None], ['2019-08-02', 99.95, 100.8, 97.25, 97.25, None, 124704.0, 12224533.0, None, None, None], ['2019-08-01', 99.6, 100.7, 99.3, 100.5, None, 102399.0, 10267086.0, None, None, None], ['2019-07-31', 99.0, 99.75, 98.35, 99.45, None, 106057.0, 10535986.0, None, None, None], ['2019-07-30', 100.3, 100.4, 98.85, 99.2, None, 117634.0, 11712535.0, None, None, None], ['2019-07-29', 98.95, 100.4, 98.75, 99.85, None, 104305.0, 10408428.0, None, None, None], ['2019-07-26', 96.5, 99.3, 96.15, 99.0, None, 116311.0, 11474417.0, None, None, None], ['2019-07-25', 98.35, 99.5, 96.9, 97.25, None, 84809.0, 8301676.5, None, None, None], ['2019-07-24', 98.45, 98.95, 96.65, 97.5, None, 111280.0, 10851049.0, None, None, None], ['2019-07-23', 97.2, 98.2, 97.05, 98.1, None, 91724.0, 8971253.0, None, None, None], ['2019-07-22', 97.7, 98.05, 96.45, 97.1, None, 106134.0, 10314239.0, None, None, None], ['2019-07-19', 98.0, 98.35, 96.8, 97.5, None, 110757.0, 10795196.0, None, None, None], ['2019-07-18', 97.05, 98.5, 96.35, 97.9, None, 138280.0, 13508944.0, None, None, None], ['2019-07-17', 95.3, 98.6, 94.6, 97.3, None, 221229.0, 21534144.0, None, None, None], ['2019-07-16', 93.0, 98.6, 92.65, 95.3, None, 278130.0, 26587740.0, None, None, None], ['2019-07-15', 84.8, 94.1, 84.8, 93.6, None, 481793.0, 43283072.0, None, None, None], ['2019-07-12', 86.15, 86.2, 84.45, 84.95, None, 111137.0, 9448958.0, None, None, None], ['2019-07-11', 85.7, 87.15, 85.65, 86.15, None, 162794.0, 14041185.0, None, None, None], ['2019-07-10', 86.05, 86.55, 84.15, 85.75, None, 116226.0, 9947223.0, None, None, None], ['2019-07-09', 85.4, 87.6, 85.4, 86.2, None, 104420.0, 9026189.0, None, None, None], ['2019-07-08', 85.75, 86.4, 85.2, 85.9, None, 63967.0, 5495242.5, None, None, None], ['2019-07-05', 87.95, 88.25, 84.9, 85.95, None, 124957.0, 10782292.0, None, None, None], ['2019-07-04', 88.05, 88.3, 86.9, 88.05, None, 98273.0, 8621586.0, None, None, None], ['2019-07-03', 86.6, 88.45, 86.45, 88.3, None, 130283.0, 11450014.0, None, None, None], ['2019-07-02', 85.95, 86.5, 85.35, 86.5, None, 150270.0, 12952523.0, None, None, None], ['2019-07-01', 88.6, 88.6, 85.15, 85.95, None, 219363.0, 18866410.0, None, None, None], ['2019-06-28', 84.5, 86.85, 83.8, 86.75, None, 230574.0, 19812290.0, None, None, None], ['2019-06-27', 84.8, 84.8, 83.9, 84.35, None, 108133.0, 9116091.0, None, None, None], ['2019-06-26', 85.85, 86.1, 84.15, 84.35, None, 113137.0, 9582973.0, None, None, None], ['2019-06-25', 86.95, 87.25, 84.8, 86.25, None, 156907.0, 13487083.0, None, None, None], ['2019-06-24', 86.9, 88.05, 86.2, 87.2, None, 117151.0, 10211707.0, None, None, None], ['2019-06-21', 88.5, 88.8, 86.85, 86.9, None, 281537.0, 24608656.0, None, None, None], ['2019-06-20', 89.0, 90.35, 88.95, 89.2, None, 110960.0, 9924531.0, None, None, None], ['2019-06-19', 92.55, 92.65, 88.3, 89.15, None, 239831.0, 21474952.0, None, None, None], ['2019-06-18', 91.7, 94.65, 90.55, 94.35, None, 209043.0, 19579046.0, None, None, None], ['2019-06-17', 89.55, 90.35, 89.15, 90.35, None, 112315.0, 10108563.0, None, None, None], ['2019-06-14', 89.0, 89.55, 88.15, 89.55, None, 96679.0, 8632357.0, None, None, None], ['2019-06-13', 90.05, 90.55, 88.95, 89.5, None, 77479.0, 6936254.0, None, None, None], ['2019-06-12', 88.8, 90.05, 87.95, 89.95, None, 147576.0, 13225749.0, None, None, None], ['2019-06-11', 88.85, 89.45, 87.5, 88.5, None, 227941.0, 20185300.0, None, None, None], ['2019-06-07', 85.9, 87.2, 85.45, 86.95, None, 138663.0, 12010778.0, None, None, None], ['2019-06-06', 85.4, 86.05, 85.0, 85.5, None, 141747.0, 12126871.0, None, None, None], ['2019-06-05', 83.8, 86.0, 83.6, 85.85, None, 196908.0, 16831752.0, None, None, None], ['2019-06-04', 84.0, 84.05, 81.95, 83.8, None, 194026.0, 16189447.0, None, None, None], ['2019-06-03', 83.85, 84.6, 83.15, 84.6, None, 211906.0, 17831666.0, None, None, None], ['2019-05-31', 84.2, 85.15, 82.4, 84.25, None, 224136.0, 18772682.0, None, None, None], ['2019-05-30', 84.0, 85.9, 84.0, 85.85, None, 117606.0, 10048622.0, None, None, None], ['2019-05-29', 86.85, 87.7, 83.65, 84.1, None, 253284.0, 21473838.0, None, None, None], ['2019-05-28', 87.5, 88.4, 86.25, 87.4, None, 2957391.0, 258453488.0, None, None, None], ['2019-05-27', 88.2, 88.4, 87.65, 87.85, None, 85999.0, 7560564.5, None, None, None], ['2019-05-24', 88.5, 88.85, 87.5, 88.1, None, 143958.0, 12681718.0, None, None, None], ['2019-05-23', 88.0, 88.5, 87.25, 88.2, None, 185157.0, 16297127.0, None, None, None], ['2019-05-22', 87.7, 89.35, 87.7, 88.85, None, 171924.0, 15233910.0, None, None, None], ['2019-05-21', 89.35, 89.45, 87.7, 88.1, None, 165632.0, 14624028.0, None, None, None], ['2019-05-20', 89.5, 89.85, 88.45, 88.55, None, 134676.0, 11985496.0, None, None, None], ['2019-05-17', 89.4, 89.4, 88.55, 89.25, None, 117480.0, 10466561.0, None, None, None], ['2019-05-16', 86.6, 89.3, 86.5, 89.2, None, 159067.0, 14088797.0, None, None, None], ['2019-05-15', 86.35, 87.35, 85.1, 86.65, None, 145855.0, 12611298.0, None, None, None], ['2019-05-14', 85.1, 87.1, 83.8, 86.0, None, 297843.0, 25587236.0, None, None, None], ['2019-05-13', 87.5, 87.9, 85.85, 86.75, None, 122313.0, 10598375.0, None, None, None], ['2019-05-10', 86.55, 87.65, 86.25, 86.9, None, 123258.0, 10704915.0, None, None, None], ['2019-05-09', 86.95, 87.15, 85.25, 85.75, None, 156083.0, 13415858.0, None, None, None], ['2019-05-08', 88.4, 88.95, 85.45, 87.0, None, 252666.0, 22022720.0, None, None, None], ['2019-05-07', 89.5, 90.6, 87.6, 87.8, None, 306539.0, 27240006.0, None, None, None], ['2019-05-06', 87.1, 89.05, 84.9, 89.05, None, 160083.0, 14049181.0, None, None, None], ['2019-05-03', 87.05, 87.5, 86.65, 87.2, None, 138284.0, 12036856.0, None, None, None], ['2019-05-02', 87.6, 87.7, 85.45, 86.55, None, 216631.0, 18702266.0, None, None, None], ['2019-04-30', 87.6, 88.85, 86.7, 87.55, None, 181575.0, 15903907.0, None, None, None], ['2019-04-29', 86.7, 87.65, 85.9, 87.5, None, 150210.0, 13060972.0, None, None, None], ['2019-04-26', 84.4, 86.65, 84.4, 86.3, None, 190048.0, 16341582.0, None, None, None], ['2019-04-25', None, 84.6, 83.25, 84.15, None, 148669.0, 12492975.0, None, None, None], ['2019-04-24', None, 84.4, 83.0, 83.5, None, 220545.0, 18418288.0, None, None, None], ['2019-04-23', None, 83.45, 80.85, 82.45, None, 204897.0, 16892655.0, None, None, None]], 'collapse': None, 'order': None, 'database_id': 6129}}\n"
          ]
        }
      ],
      "metadata": {
        "colab": {
          "base_uri": "https://localhost:8080/"
        },
        "id": "PQGuoqOEsSFi",
        "outputId": "983f995d-2790-4eee-dd4b-e84271de34ce"
      }
    },
    {
      "cell_type": "markdown",
      "source": [
        "These are your tasks for this mini project:\n",
        "\n",
        "1. Collect data from the Franfurt Stock Exchange, for the ticker AFX_X, for the whole year 2017 (keep in mind that the date format is YYYY-MM-DD).\n",
        "2. Convert the returned JSON object into a Python dictionary.\n",
        "3. Calculate what the highest and lowest opening prices were for the stock in this period.\n",
        "4. What was the largest change in any one day (based on High and Low price)?\n",
        "5. What was the largest change between any two days (based on Closing Price)?\n",
        "6. What was the average daily trading volume during this year?\n",
        "7. (Optional) What was the median trading volume during this year. (Note: you may need to implement your own function for calculating the median.)"
      ],
      "metadata": {
        "id": "j-Y8Puv4sSFj"
      }
    },
    {
      "cell_type": "code",
      "execution_count": 8,
      "source": [
        "# 1. Collect data from the Franfurt Stock Exchange, for the ticker AFX_X, for the whole year 2017 (keep in mind that the date format is YYYY-MM-DD).\n",
        "\n",
        "r = requests.get('https://www.quandl.com/api/v3/datasets/FSE/AFX_X.json?api_key=yAkdZ-D1QswJiy9SFwyh&start_date=2017-01-01&end_date=2017-12-31')\n",
        "\n",
        "print(r.json())"
      ],
      "outputs": [
        {
          "output_type": "stream",
          "name": "stdout",
          "text": [
            "{'dataset': {'id': 10095370, 'dataset_code': 'AFX_X', 'database_code': 'FSE', 'name': 'Carl Zeiss Meditec (AFX_X)', 'description': 'Stock Prices for Carl Zeiss Meditec (2020-11-02) from the Frankfurt Stock Exchange.<br><br>Trading System: Xetra<br><br>ISIN: DE0005313704', 'refreshed_at': '2020-12-01T14:48:09.907Z', 'newest_available_date': '2020-12-01', 'oldest_available_date': '2000-06-07', 'column_names': ['Date', 'Open', 'High', 'Low', 'Close', 'Change', 'Traded Volume', 'Turnover', 'Last Price of the Day', 'Daily Traded Units', 'Daily Turnover'], 'frequency': 'daily', 'type': 'Time Series', 'premium': False, 'limit': None, 'transform': None, 'column_index': None, 'start_date': '2017-01-01', 'end_date': '2017-12-31', 'data': [['2017-12-29', 51.76, 51.94, 51.45, 51.76, None, 34640.0, 1792304.0, None, None, None], ['2017-12-28', 51.65, 51.82, 51.43, 51.6, None, 40660.0, 2099024.0, None, None, None], ['2017-12-27', 51.45, 51.89, 50.76, 51.82, None, 57452.0, 2957018.0, None, None, None], ['2017-12-22', 51.05, 51.5, 50.92, 51.32, None, 71165.0, 3641949.0, None, None, None], ['2017-12-21', 51.16, 51.52, 50.9, 51.4, None, 120649.0, 6179433.0, None, None, None], ['2017-12-20', 51.88, 52.04, 51.2, 51.27, None, 50587.0, 2610258.0, None, None, None], ['2017-12-19', 52.73, 52.73, 51.07, 51.66, None, 137313.0, 7102361.0, None, None, None], ['2017-12-18', 52.37, 52.75, 51.61, 52.62, None, 129733.0, 6770499.0, None, None, None], ['2017-12-15', 52.7, 52.7, 51.64, 52.01, None, 204080.0, 10596319.0, None, None, None], ['2017-12-14', 53.11, 53.54, 52.15, 52.67, None, 132981.0, 7016953.0, None, None, None], ['2017-12-13', 52.64, 53.35, 52.48, 53.09, None, 128434.0, 6801159.0, None, None, None], ['2017-12-12', 52.29, 53.1, 51.82, 52.43, None, 87911.0, 4615924.0, None, None, None], ['2017-12-11', 52.28, 52.45, 51.26, 52.14, None, 71817.0, 3724193.0, None, None, None], ['2017-12-08', 51.5, 52.83, 51.28, 52.12, None, 109157.0, 5690648.0, None, None, None], ['2017-12-07', 50.89, 51.47, 50.81, 51.47, None, 48123.0, 2463848.0, None, None, None], ['2017-12-06', 50.8, 51.11, 50.39, 50.89, None, 88730.0, 4504075.0, None, None, None], ['2017-12-05', 51.21, 51.38, 50.4, 51.25, None, 83023.0, 4231971.0, None, None, None], ['2017-12-04', 49.5, 51.23, 49.5, 51.14, None, 94385.0, 4800027.0, None, None, None], ['2017-12-01', 49.52, 50.49, 49.17, 49.86, None, 101733.0, 5065932.0, None, None, None], ['2017-11-30', 48.64, 49.84, 48.28, 49.7, None, 123019.0, 6085171.0, None, None, None], ['2017-11-29', 49.64, 49.64, 48.7, 48.75, None, 67342.0, 3292223.0, None, None, None], ['2017-11-28', 49.09, 49.89, 49.03, 49.25, None, 42669.0, 2107358.0, None, None, None], ['2017-11-27', 49.13, 49.73, 48.96, 49.2, None, 102180.0, 5055762.0, None, None, None], ['2017-11-24', 49.11, 49.41, 48.87, 49.11, None, 50350.0, 2472842.0, None, None, None], ['2017-11-23', 48.8, 49.46, 48.45, 49.2, None, 38834.0, 1909352.0, None, None, None], ['2017-11-22', 48.4, 49.61, 48.39, 48.8, None, 91142.0, 4478093.0, None, None, None], ['2017-11-21', 47.25, 48.59, 46.78, 48.39, None, 78502.0, 3782098.0, None, None, None], ['2017-11-20', 46.57, 47.38, 46.54, 47.04, None, 97252.0, 4563515.0, None, None, None], ['2017-11-17', 47.03, 47.15, 46.8, 46.84, None, 54107.0, 2540820.0, None, None, None], ['2017-11-16', 47.09, 47.23, 46.55, 47.03, None, 89373.0, 4195732.0, None, None, None], ['2017-11-15', 47.98, 48.01, 46.75, 47.05, None, 67593.0, 3188321.0, None, None, None], ['2017-11-14', 48.4, 48.9, 47.84, 48.0, None, 67672.0, 3259979.0, None, None, None], ['2017-11-13', 48.38, 48.61, 47.76, 48.34, None, 76286.0, 3681337.0, None, None, None], ['2017-11-10', 47.3, 48.89, 47.16, 48.34, None, 90245.0, 4361552.0, None, None, None], ['2017-11-09', 47.65, 48.06, 47.09, 47.21, None, 120268.0, 5712034.0, None, None, None], ['2017-11-08', 46.42, 47.72, 46.42, 47.47, None, 94195.0, 4463935.0, None, None, None], ['2017-11-07', 46.16, 46.33, 45.84, 46.26, None, 48152.0, 2224221.0, None, None, None], ['2017-11-06', 45.81, 46.09, 45.76, 45.99, None, 60716.0, 2789220.0, None, None, None], ['2017-11-03', 45.0, 46.04, 44.83, 45.97, None, 56911.0, 2603498.0, None, None, None], ['2017-11-02', 45.88, 46.06, 45.18, 45.27, None, 37958.0, 1724840.0, None, None, None], ['2017-11-01', 46.29, 46.55, 45.97, 46.04, None, 56319.0, 2603859.0, None, None, None], ['2017-10-30', 46.53, 46.65, 45.61, 45.76, None, 56245.0, 2585397.0, None, None, None], ['2017-10-27', 45.48, 46.42, 45.46, 46.41, None, 74472.0, 3434087.0, None, None, None], ['2017-10-26', 45.2, 45.41, 44.91, 45.41, None, 56319.0, 2548078.0, None, None, None], ['2017-10-25', 45.01, 45.06, 44.7, 45.0, None, 47730.0, 2145697.0, None, None, None], ['2017-10-24', 45.16, 45.27, 44.75, 44.85, None, 43042.0, 1937616.0, None, None, None], ['2017-10-23', 44.9, 45.34, 44.89, 45.0, None, 43375.0, 1952918.0, None, None, None], ['2017-10-20', 45.08, 45.34, 44.76, 44.87, None, 55707.0, 2503853.0, None, None, None], ['2017-10-19', 45.72, 45.85, 44.79, 45.0, None, 59991.0, 2703085.0, None, None, None], ['2017-10-18', 46.01, 46.2, 45.61, 45.77, None, 45263.0, 2076951.0, None, None, None], ['2017-10-17', 45.8, 46.06, 45.37, 45.96, None, 65837.0, 3014080.0, None, None, None], ['2017-10-16', 45.61, 45.75, 45.3, 45.55, None, 49246.0, 2243129.0, None, None, None], ['2017-10-13', 45.5, 45.7, 45.37, 45.4, None, 43362.0, 1971801.0, None, None, None], ['2017-10-12', 45.58, 45.58, 45.17, 45.43, None, 49180.0, 2233481.0, None, None, None], ['2017-10-11', 45.97, 45.97, 45.25, 45.29, None, 69455.0, 3158321.0, None, None, None], ['2017-10-10', 45.64, 46.04, 45.57, 45.84, None, 65860.0, 3016658.0, None, None, None], ['2017-10-09', 46.2, 46.2, 45.6, 45.74, None, 44059.0, 2015453.0, None, None, None], ['2017-10-06', 46.19, 46.19, 45.69, 46.0, None, 66760.0, 3066198.0, None, None, None], ['2017-10-05', 46.01, 46.09, 45.63, 46.05, None, 94804.0, 4352002.0, None, None, None], ['2017-10-04', 45.36, 46.17, 45.22, 46.11, None, 115706.0, 5313199.0, None, None, None], ['2017-10-02', 44.51, 44.98, 44.18, 44.98, None, 95313.0, 4265024.0, None, None, None], ['2017-09-29', 43.58, 44.17, 43.3, 44.17, None, 99821.0, 4384796.0, None, None, None], ['2017-09-28', 42.0, 43.56, 42.0, 43.56, None, 157234.0, 6775569.0, None, None, None], ['2017-09-27', 42.35, 42.49, 41.78, 42.04, None, 76600.0, 3219861.0, None, None, None], ['2017-09-26', 42.3, 42.57, 42.11, 42.37, None, 51321.0, 2175381.0, None, None, None], ['2017-09-25', 42.3, 42.3, 41.96, 42.07, None, 56224.0, 2366453.0, None, None, None], ['2017-09-22', 41.48, 42.38, 41.48, 42.06, None, 79955.0, 3362517.0, None, None, None], ['2017-09-21', 42.29, 42.29, 41.39, 41.46, None, 105194.0, 4378409.0, None, None, None], ['2017-09-20', 42.54, 42.54, 41.99, 41.99, None, 57838.0, 2440557.0, None, None, None], ['2017-09-19', 42.65, 42.65, 42.13, 42.44, None, 65546.0, 2777065.0, None, None, None], ['2017-09-18', 42.5, 42.63, 42.23, 42.27, None, 44037.0, 1864954.0, None, None, None], ['2017-09-15', 42.29, 42.81, 42.25, 42.42, None, 107144.0, 4555791.0, None, None, None], ['2017-09-14', 42.35, 42.8, 42.35, 42.52, None, 65157.0, 2770696.0, None, None, None], ['2017-09-13', 42.49, 42.69, 42.22, 42.45, None, 68801.0, 2921240.0, None, None, None], ['2017-09-12', 43.21, 43.34, 42.62, 42.73, None, 52828.0, 2259924.0, None, None, None], ['2017-09-11', 42.81, 42.89, 42.56, 42.85, None, 103273.0, 4415614.0, None, None, None], ['2017-09-08', 42.7, 42.75, 42.56, 42.67, None, 59881.0, 2553977.0, None, None, None], ['2017-09-07', 43.0, 43.02, 42.67, 42.77, None, 64320.0, 2751388.0, None, None, None], ['2017-09-06', 42.66, 42.71, 42.34, 42.55, None, 71006.0, 3020229.0, None, None, None], ['2017-09-05', 43.0, 43.19, 42.55, 42.62, None, 66351.0, 2846115.0, None, None, None], ['2017-09-04', 42.38, 42.75, 41.95, 42.6, None, 105288.0, 4471634.0, None, None, None], ['2017-09-01', 42.16, 43.06, 42.07, 42.41, None, 151474.0, 6453558.0, None, None, None], ['2017-08-31', 42.0, 42.08, 41.12, 41.9, None, 157888.0, 6580200.0, None, None, None], ['2017-08-30', 42.0, 42.2, 41.49, 41.94, None, 97804.0, 4090262.0, None, None, None], ['2017-08-29', 41.71, 41.98, 41.33, 41.85, None, 98156.0, 4094452.0, None, None, None], ['2017-08-28', 42.11, 42.25, 41.86, 41.91, None, 47130.0, 1978704.0, None, None, None], ['2017-08-25', 42.64, 42.64, 42.05, 42.14, None, 69734.0, 2948016.0, None, None, None], ['2017-08-24', 42.72, 43.05, 42.63, 42.69, None, 65213.0, 2792319.0, None, None, None], ['2017-08-23', 42.82, 43.17, 42.6, 42.71, None, 70269.0, 3011578.0, None, None, None], ['2017-08-22', 42.46, 42.96, 42.4, 42.71, None, 95376.0, 4075646.0, None, None, None], ['2017-08-21', 42.42, 42.76, 42.2, 42.26, None, 68812.0, 2922972.0, None, None, None], ['2017-08-18', 42.28, 42.6, 42.01, 42.41, None, 72886.0, 3092377.0, None, None, None], ['2017-08-17', 41.88, 43.01, 41.76, 42.5, None, 131361.0, 5583704.0, None, None, None], ['2017-08-16', 42.4, 42.62, 41.98, 42.05, None, 104676.0, 4408312.0, None, None, None], ['2017-08-15', 42.53, 42.53, 42.2, 42.28, None, 64334.0, 2721852.0, None, None, None], ['2017-08-14', 42.12, 42.69, 42.01, 42.3, None, 127682.0, 5416963.0, None, None, None], ['2017-08-11', 41.3, 41.94, 40.96, 41.94, None, 183412.0, 7604144.0, None, None, None], ['2017-08-10', 41.73, 41.99, 41.14, 41.68, None, 175161.0, 7303562.0, None, None, None], ['2017-08-09', 43.5, 43.5, 41.64, 41.81, None, 355857.0, 15003956.0, None, None, None], ['2017-08-08', 44.9, 45.09, 44.15, 44.37, None, 156168.0, 6941408.0, None, None, None], ['2017-08-07', 45.85, 46.34, 44.02, 44.96, None, 164543.0, 7378816.0, None, None, None], ['2017-08-04', 45.13, 45.13, 44.36, 45.07, None, 96202.0, 4306911.0, None, None, None], ['2017-08-03', 45.34, 45.54, 44.91, 44.97, None, 77854.0, 3517146.0, None, None, None], ['2017-08-02', 45.25, 45.77, 44.9, 45.56, None, 187468.0, 8528548.0, None, None, None], ['2017-08-01', 45.24, 45.54, 45.1, 45.45, None, 74975.0, 3399891.0, None, None, None], ['2017-07-31', 44.94, 45.75, 44.94, 45.3, None, 62672.0, 2844210.0, None, None, None], ['2017-07-28', 45.26, 45.29, 44.75, 44.97, None, 114006.0, 5127247.0, None, None, None], ['2017-07-27', 45.16, 45.45, 45.15, 45.25, None, 50557.0, 2290284.0, None, None, None], ['2017-07-26', 44.91, 45.33, 44.46, 45.16, None, 81970.0, 3688510.0, None, None, None], ['2017-07-25', 44.7, 45.04, 44.63, 44.82, None, 112224.0, 5033312.0, None, None, None], ['2017-07-24', 45.31, 45.31, 44.49, 44.61, None, 104282.0, 4661866.0, None, None, None], ['2017-07-21', 45.57, 45.88, 45.04, 45.44, None, 73422.0, 3334695.0, None, None, None], ['2017-07-20', 45.74, 45.96, 45.23, 45.66, None, 87399.0, 3986488.0, None, None, None], ['2017-07-19', 45.06, 45.72, 44.94, 45.57, None, 71971.0, 3273001.0, None, None, None], ['2017-07-18', 45.5, 45.55, 44.7, 45.0, None, 104003.0, 4684627.0, None, None, None], ['2017-07-17', 45.6, 46.23, 45.29, 45.6, None, 104995.0, 4801806.0, None, None, None], ['2017-07-14', 45.07, 45.56, 44.83, 45.53, None, 67375.0, 3054060.0, None, None, None], ['2017-07-13', 44.67, 45.18, 44.67, 44.95, None, 82745.0, 3718928.0, None, None, None], ['2017-07-12', 44.29, 45.05, 43.89, 44.95, None, 115705.0, 5133971.0, None, None, None], ['2017-07-11', 44.94, 44.94, 44.08, 44.2, None, 90538.0, 4010457.0, None, None, None], ['2017-07-10', 44.64, 45.18, 44.51, 44.7, None, 71868.0, 3221218.0, None, None, None], ['2017-07-07', 44.79, 44.79, 44.25, 44.53, None, 47999.0, 2136578.0, None, None, None], ['2017-07-06', 45.5, 45.5, 44.15, 44.62, None, 66116.0, 2952605.0, None, None, None], ['2017-07-05', 44.67, 45.36, 44.44, 45.19, None, 48706.0, 2189436.0, None, None, None], ['2017-07-04', 45.83, 45.83, 44.74, 44.8, None, 50549.0, 2273551.0, None, None, None], ['2017-07-03', 45.29, 45.83, 45.06, 45.75, None, 71381.0, 3251502.0, None, None, None], ['2017-06-30', 45.01, 45.74, 45.0, 45.44, None, 136112.0, 6187148.0, None, None, None], ['2017-06-29', 45.73, 45.81, 45.11, 45.2, None, 134965.0, 6132452.0, None, None, None], ['2017-06-28', 46.68, 46.68, 45.41, 45.68, None, 117165.0, 5381488.0, None, None, None], ['2017-06-27', 47.23, 47.33, 46.39, 46.83, None, 82492.0, 3866344.0, None, None, None], ['2017-06-26', 46.95, 47.63, 46.91, 47.21, None, 73322.0, 3465639.0, None, None, None], ['2017-06-23', 47.29, 47.4, 46.79, 46.99, None, 80586.0, 3792498.0, None, None, None], ['2017-06-22', 47.03, 47.4, 46.75, 47.29, None, 56071.0, 2640508.0, None, None, None], ['2017-06-21', 47.46, 47.48, 46.53, 46.99, None, 89752.0, 4206563.0, None, None, None], ['2017-06-20', 46.48, 47.43, 46.27, 47.37, None, 108334.0, 5109730.0, None, None, None], ['2017-06-19', 46.9, 46.9, 46.25, 46.64, None, 70056.0, 3260381.0, None, None, None], ['2017-06-16', 45.66, 46.8, 45.66, 46.63, None, 202214.0, 9411695.0, None, None, None], ['2017-06-15', 46.34, 46.34, 45.21, 45.67, None, 101733.0, 4635593.0, None, None, None], ['2017-06-14', 46.52, 46.86, 46.05, 46.33, None, 83741.0, 3881453.0, None, None, None], ['2017-06-13', 46.5, 46.51, 46.03, 46.32, None, 107644.0, 4981185.0, None, None, None], ['2017-06-12', 47.31, 47.43, 45.89, 46.31, None, 112942.0, 5238390.0, None, None, None], ['2017-06-09', 46.77, 47.44, 46.55, 47.44, None, 99674.0, 4702170.0, None, None, None], ['2017-06-08', 47.8, 47.8, 46.27, 46.27, None, 1945.0, 90599.0, None, None, None], ['2017-06-07', 47.01, 47.43, 47.01, 47.43, None, 1081.0, 51021.0, None, None, None], ['2017-06-06', 47.12, 47.45, 46.21, 47.43, None, 686.0, 32083.0, None, None, None], ['2017-06-02', 46.8, 46.99, 46.72, 46.99, None, 290.0, 13584.0, None, None, None], ['2017-06-01', 46.12, 46.52, 45.89, 46.52, None, 106513.0, 4930686.0, None, None, None], ['2017-05-31', 45.22, 46.26, 45.22, 45.86, None, 522.0, 24044.0, None, None, None], ['2017-05-30', 45.05, 46.02, 45.05, 46.02, None, 587.0, 26792.0, None, None, None], ['2017-05-29', 45.61, 45.61, 45.24, 45.32, None, 112.0, 5089.0, None, None, None], ['2017-05-26', 44.8, 45.36, 44.71, 45.3, None, 74453.0, 3360707.0, None, None, None], ['2017-05-25', 44.8, 44.87, 44.29, 44.78, None, 49970.0, 2231857.0, None, None, None], ['2017-05-24', 43.92, 44.67, 43.92, 44.53, None, 111923.0, 4971343.0, None, None, None], ['2017-05-23', 43.67, 44.13, 43.55, 43.9, None, 38308.0, 1681904.0, None, None, None], ['2017-05-22', 44.16, 44.22, 43.44, 43.84, None, 70856.0, 3103013.0, None, None, None], ['2017-05-19', 43.74, 44.12, 43.74, 44.12, None, 45.0, 1980.0, None, None, None], ['2017-05-18', 44.0, 44.3, 43.29, 43.98, None, 166160.0, 7277314.0, None, None, None], ['2017-05-17', 45.06, 45.34, 44.01, 44.19, None, 149515.0, 6664744.0, None, None, None], ['2017-05-16', 45.15, 45.36, 44.56, 45.31, None, 101476.0, 4567885.0, None, None, None], ['2017-05-15', 45.09, 45.78, 44.31, 45.14, None, 193702.0, 8734286.0, None, None, None], ['2017-05-12', 45.18, 45.18, 44.16, 44.99, None, 159495.0, 7113519.0, None, None, None], ['2017-05-11', 43.4, 46.06, 43.25, 45.0, None, 189125.0, 8496322.0, None, None, None], ['2017-05-10', 43.5, 43.6, 42.53, 43.28, None, 91858.0, 3958630.0, None, None, None], ['2017-05-09', 41.83, 43.55, 41.82, 43.3, None, 151439.0, 6538516.0, None, None, None], ['2017-05-08', 43.0, 43.0, 42.04, 42.24, None, 97456.0, 4128048.0, None, None, None], ['2017-05-05', 42.52, 42.91, 42.38, 42.75, None, 78512.0, 3353971.0, None, None, None], ['2017-05-04', 41.86, 42.5, 41.71, 42.5, None, 82058.0, 3465505.0, None, None, None], ['2017-05-03', 42.2, 42.29, 41.78, 41.9, None, 65266.0, 2738394.0, None, None, None], ['2017-05-02', 41.89, 42.23, 41.76, 42.15, None, 86559.0, 3636583.0, None, None, None], ['2017-05-01', None, 42.245, 41.655, 41.72, -0.44, 86348.0, 3606589.0, None, None, None], ['2017-04-28', 42.17, 42.25, 41.66, 41.72, None, 86348.0, 3606589.0, None, None, None], ['2017-04-27', 41.51, 42.24, 41.51, 42.16, None, 151683.0, 6380639.0, None, None, None], ['2017-04-26', 41.88, 41.94, 41.4, 41.5, None, 65847.0, 2743109.0, None, None, None], ['2017-04-25', 41.93, 42.18, 41.66, 41.89, None, 85973.0, 3604204.0, None, None, None], ['2017-04-24', 42.01, 42.02, 41.23, 41.81, None, 102084.0, 4247032.0, None, None, None], ['2017-04-21', 41.97, 42.14, 41.01, 41.32, None, 186784.0, 7728103.0, None, None, None], ['2017-04-20', 42.5, 42.64, 41.52, 41.93, None, 223621.0, 9418192.0, None, None, None], ['2017-04-19', 41.94, 42.61, 41.94, 42.61, None, 92722.0, 3930856.0, None, None, None], ['2017-04-18', 42.24, 42.4, 41.54, 42.0, None, 133057.0, 5587565.0, None, None, None], ['2017-04-17', None, 42.48, 41.985, 42.2, None, 88416.0, 3734717.0, None, None, None], ['2017-04-14', None, 42.48, 41.985, 42.2, None, 88416.0, 3734717.0, None, None, None], ['2017-04-13', 42.06, 42.48, 41.99, 42.2, None, 88416.0, 3734717.0, None, None, None], ['2017-04-12', 42.02, 42.45, 41.84, 42.2, None, 158278.0, 6672547.0, None, None, None], ['2017-04-11', 41.62, 42.03, 41.53, 41.75, None, 107817.0, 4501109.0, None, None, None], ['2017-04-10', 41.46, 41.68, 41.31, 41.68, None, 62297.0, 2585922.0, None, None, None], ['2017-04-07', 40.9, 41.42, 40.84, 41.42, None, 81255.0, 3344628.0, None, None, None], ['2017-04-06', 40.96, 41.25, 40.83, 41.05, None, 96794.0, 3968681.0, None, None, None], ['2017-04-05', 41.1, 41.34, 40.79, 41.1, None, 156005.0, 6404780.0, None, None, None], ['2017-04-04', 39.5, 40.88, 39.48, 40.81, None, 193156.0, 7822665.0, None, None, None], ['2017-04-03', 40.15, 40.15, 39.54, 39.64, None, 127973.0, 5081376.0, None, None, None], ['2017-03-31', 39.77, 40.07, 39.42, 39.98, None, 95382.0, 3795061.0, None, None, None], ['2017-03-30', 40.02, 40.14, 39.42, 39.75, None, 189201.0, 7541354.0, None, None, None], ['2017-03-29', 39.39, 40.01, 39.05, 40.01, None, 335406.0, 13349426.0, None, None, None], ['2017-03-28', 38.95, 39.35, 38.79, 39.22, None, 115075.0, 4505494.0, None, None, None], ['2017-03-27', 38.73, 39.1, 38.53, 38.85, None, 191515.0, 7446952.0, None, None, None], ['2017-03-24', 38.94, 39.02, 38.6, 38.94, None, 210926.0, 8205507.0, None, None, None], ['2017-03-23', 39.01, 39.25, 38.63, 38.96, None, 169971.0, 6621807.0, None, None, None], ['2017-03-22', 38.25, 39.02, 37.53, 38.94, None, 670349.0, 25910543.0, None, None, None], ['2017-03-21', 41.8, 41.83, 40.97, 40.98, None, 56906.0, 2349965.0, None, None, None], ['2017-03-20', 41.26, 42.17, 41.26, 41.97, None, 97572.0, 4074891.0, None, None, None], ['2017-03-17', 41.47, 41.59, 41.16, 41.34, None, 90109.0, 3734232.0, None, None, None], ['2017-03-16', 41.4, 41.57, 41.09, 41.46, None, 55799.0, 2308423.0, None, None, None], ['2017-03-15', 41.4, 41.5, 40.91, 41.25, None, 60324.0, 2488650.0, None, None, None], ['2017-03-14', 41.2, 41.5, 41.2, 41.3, None, 60420.0, 2498025.0, None, None, None], ['2017-03-13', 41.4, 41.46, 41.08, 41.3, None, 44803.0, 1850251.0, None, None, None], ['2017-03-10', 41.53, 41.53, 41.16, 41.4, None, 38518.0, 1592270.0, None, None, None], ['2017-03-09', 41.61, 41.61, 41.16, 41.4, None, 43988.0, 1819182.0, None, None, None], ['2017-03-08', 41.13, 41.71, 40.95, 41.68, None, 45111.0, 1870935.0, None, None, None], ['2017-03-07', 41.5, 41.8, 41.25, 41.42, None, 61925.0, 2569608.0, None, None, None], ['2017-03-06', 41.25, 41.4, 40.81, 41.4, None, 46510.0, 1916799.0, None, None, None], ['2017-03-03', 41.12, 41.22, 40.84, 41.18, None, 40800.0, 1675587.0, None, None, None], ['2017-03-02', 41.38, 41.39, 40.76, 41.17, None, 49863.0, 2048153.0, None, None, None], ['2017-03-01', 41.19, 41.57, 40.9, 41.2, None, 86753.0, 3569796.0, None, None, None], ['2017-02-28', 40.38, 40.95, 40.38, 40.84, None, 67440.0, 2747011.0, None, None, None], ['2017-02-27', 39.75, 40.64, 39.75, 40.39, None, 62655.0, 2520260.0, None, None, None], ['2017-02-24', 39.77, 40.14, 38.91, 39.74, None, 101294.0, 4015150.0, None, None, None], ['2017-02-23', 39.72, 39.98, 39.38, 39.79, None, 81945.0, 3260642.0, None, None, None], ['2017-02-22', 39.6, 39.75, 39.27, 39.7, None, 77619.0, 3066894.0, None, None, None], ['2017-02-21', 38.85, 39.57, 38.85, 39.45, None, 46070.0, 1808350.0, None, None, None], ['2017-02-20', 39.25, 39.25, 38.81, 38.98, None, 37014.0, 1444138.0, None, None, None], ['2017-02-17', 38.8, 39.03, 38.48, 39.02, None, 60583.0, 2352961.0, None, None, None], ['2017-02-16', 38.8, 39.2, 38.25, 38.71, None, 84682.0, 3282322.0, None, None, None], ['2017-02-15', 38.5, 38.93, 38.4, 38.72, None, 77420.0, 2996861.0, None, None, None], ['2017-02-14', 38.81, 38.86, 38.0, 38.37, None, 82601.0, 3163898.0, None, None, None], ['2017-02-13', 37.37, 39.36, 37.35, 38.53, None, 177171.0, 6804028.0, None, None, None], ['2017-02-10', 36.65, 37.5, 36.57, 37.06, None, 115843.0, 4291017.0, None, None, None], ['2017-02-09', 36.2, 36.25, 35.77, 36.25, None, 67781.0, 2445428.0, None, None, None], ['2017-02-08', 35.98, 36.14, 35.84, 36.05, None, 39731.0, 1431205.0, None, None, None], ['2017-02-07', 35.56, 36.05, 35.36, 35.89, None, 67410.0, 2410818.0, None, None, None], ['2017-02-06', 36.06, 36.15, 35.6, 35.64, None, 41911.0, 1496794.0, None, None, None], ['2017-02-03', 36.02, 36.2, 35.73, 36.1, None, 40705.0, 1464712.0, None, None, None], ['2017-02-02', 35.95, 36.2, 35.7, 36.07, None, 54279.0, 1953176.0, None, None, None], ['2017-02-01', 34.75, 36.0, 34.75, 35.94, None, 85137.0, 3038172.0, None, None, None], ['2017-01-31', 35.24, 35.24, 34.56, 34.56, None, 63371.0, 2199583.0, None, None, None], ['2017-01-30', 35.38, 35.59, 34.95, 35.15, None, 69603.0, 2457762.0, None, None, None], ['2017-01-27', 34.83, 35.43, 34.81, 35.3, None, 69657.0, 2444913.0, None, None, None], ['2017-01-26', 35.07, 35.58, 34.8, 34.89, None, 64103.0, 2249375.0, None, None, None], ['2017-01-25', 34.42, 34.86, 34.03, 34.83, None, 56240.0, 1947147.0, None, None, None], ['2017-01-24', 34.0, 34.35, 33.85, 34.22, None, 48797.0, 1666086.0, None, None, None], ['2017-01-23', 34.04, 34.12, 33.62, 34.06, None, 55333.0, 1877957.0, None, None, None], ['2017-01-20', 34.54, 34.59, 34.05, 34.17, None, 80246.0, 2743474.0, None, None, None], ['2017-01-19', 35.04, 35.04, 34.42, 34.5, None, 73105.0, 2526731.0, None, None, None], ['2017-01-18', 35.04, 35.51, 34.8, 34.9, None, 65931.0, 2311608.0, None, None, None], ['2017-01-17', 35.06, 35.19, 34.79, 34.99, None, 39195.0, 1369857.0, None, None, None], ['2017-01-16', 34.85, 35.24, 34.56, 35.07, None, 47879.0, 1678679.0, None, None, None], ['2017-01-13', 34.98, 34.98, 34.6, 34.85, None, 59367.0, 2065534.0, None, None, None], ['2017-01-12', 35.38, 35.38, 34.31, 34.9, None, 163860.0, 5703427.0, None, None, None], ['2017-01-11', 34.95, 36.0, 34.84, 35.42, None, 123530.0, 4369079.0, None, None, None], ['2017-01-10', 34.8, 34.98, 34.46, 34.91, None, 43976.0, 1528055.0, None, None, None], ['2017-01-09', 35.29, 35.35, 34.43, 34.67, None, 62225.0, 2157182.0, None, None, None], ['2017-01-06', 34.91, 35.21, 34.91, 35.04, None, 27507.0, 964046.0, None, None, None], ['2017-01-05', 35.02, 35.2, 34.73, 35.06, None, 48412.0, 1692326.0, None, None, None], ['2017-01-04', 35.48, 35.51, 34.75, 35.19, None, 54408.0, 1906810.0, None, None, None], ['2017-01-03', 35.9, 35.93, 35.34, 35.48, None, 70618.0, 2515473.0, None, None, None], ['2017-01-02', 34.99, 35.94, 34.99, 35.8, None, 44700.0, 1590561.0, None, None, None]], 'collapse': None, 'order': None, 'database_id': 6129}}\n"
          ]
        }
      ],
      "metadata": {
        "colab": {
          "base_uri": "https://localhost:8080/"
        },
        "id": "-92RNymWsSFj",
        "outputId": "34871cd4-56a5-4698-8a97-b7ff22e08266"
      }
    },
    {
      "cell_type": "code",
      "execution_count": 36,
      "source": [
        "# 2. Convert the returned JSON object into a Python dictionary.\n",
        "\n",
        "python_data_dict = r.json()\n",
        "\n",
        "column_names = python_data_dict['dataset']['column_names']\n",
        "#print(column_names)\n",
        "\n",
        "data = python_data_dict['dataset']['data']\n",
        "#print(data)\n",
        "\n",
        "\n",
        "new_data_dict = {}\n",
        "for k in column_names:\n",
        "    new_data_dict[k] = []\n",
        "    \n",
        "    \n",
        "for i in range(len(data)):\n",
        "    for j in range(len(column_names)):\n",
        "        new_data_dict[column_names[j]].append(data[i][j])    \n",
        "\n",
        "print(new_data_dict.keys())    \n",
        "\n",
        "#print(\"\\r\")\n",
        "print(new_data_dict)"
      ],
      "outputs": [
        {
          "output_type": "stream",
          "name": "stdout",
          "text": [
            "dict_keys(['Date', 'Open', 'High', 'Low', 'Close', 'Change', 'Traded Volume', 'Turnover', 'Last Price of the Day', 'Daily Traded Units', 'Daily Turnover'])\n",
            "{'Date': ['2017-12-29', '2017-12-28', '2017-12-27', '2017-12-22', '2017-12-21', '2017-12-20', '2017-12-19', '2017-12-18', '2017-12-15', '2017-12-14', '2017-12-13', '2017-12-12', '2017-12-11', '2017-12-08', '2017-12-07', '2017-12-06', '2017-12-05', '2017-12-04', '2017-12-01', '2017-11-30', '2017-11-29', '2017-11-28', '2017-11-27', '2017-11-24', '2017-11-23', '2017-11-22', '2017-11-21', '2017-11-20', '2017-11-17', '2017-11-16', '2017-11-15', '2017-11-14', '2017-11-13', '2017-11-10', '2017-11-09', '2017-11-08', '2017-11-07', '2017-11-06', '2017-11-03', '2017-11-02', '2017-11-01', '2017-10-30', '2017-10-27', '2017-10-26', '2017-10-25', '2017-10-24', '2017-10-23', '2017-10-20', '2017-10-19', '2017-10-18', '2017-10-17', '2017-10-16', '2017-10-13', '2017-10-12', '2017-10-11', '2017-10-10', '2017-10-09', '2017-10-06', '2017-10-05', '2017-10-04', '2017-10-02', '2017-09-29', '2017-09-28', '2017-09-27', '2017-09-26', '2017-09-25', '2017-09-22', '2017-09-21', '2017-09-20', '2017-09-19', '2017-09-18', '2017-09-15', '2017-09-14', '2017-09-13', '2017-09-12', '2017-09-11', '2017-09-08', '2017-09-07', '2017-09-06', '2017-09-05', '2017-09-04', '2017-09-01', '2017-08-31', '2017-08-30', '2017-08-29', '2017-08-28', '2017-08-25', '2017-08-24', '2017-08-23', '2017-08-22', '2017-08-21', '2017-08-18', '2017-08-17', '2017-08-16', '2017-08-15', '2017-08-14', '2017-08-11', '2017-08-10', '2017-08-09', '2017-08-08', '2017-08-07', '2017-08-04', '2017-08-03', '2017-08-02', '2017-08-01', '2017-07-31', '2017-07-28', '2017-07-27', '2017-07-26', '2017-07-25', '2017-07-24', '2017-07-21', '2017-07-20', '2017-07-19', '2017-07-18', '2017-07-17', '2017-07-14', '2017-07-13', '2017-07-12', '2017-07-11', '2017-07-10', '2017-07-07', '2017-07-06', '2017-07-05', '2017-07-04', '2017-07-03', '2017-06-30', '2017-06-29', '2017-06-28', '2017-06-27', '2017-06-26', '2017-06-23', '2017-06-22', '2017-06-21', '2017-06-20', '2017-06-19', '2017-06-16', '2017-06-15', '2017-06-14', '2017-06-13', '2017-06-12', '2017-06-09', '2017-06-08', '2017-06-07', '2017-06-06', '2017-06-02', '2017-06-01', '2017-05-31', '2017-05-30', '2017-05-29', '2017-05-26', '2017-05-25', '2017-05-24', '2017-05-23', '2017-05-22', '2017-05-19', '2017-05-18', '2017-05-17', '2017-05-16', '2017-05-15', '2017-05-12', '2017-05-11', '2017-05-10', '2017-05-09', '2017-05-08', '2017-05-05', '2017-05-04', '2017-05-03', '2017-05-02', '2017-05-01', '2017-04-28', '2017-04-27', '2017-04-26', '2017-04-25', '2017-04-24', '2017-04-21', '2017-04-20', '2017-04-19', '2017-04-18', '2017-04-17', '2017-04-14', '2017-04-13', '2017-04-12', '2017-04-11', '2017-04-10', '2017-04-07', '2017-04-06', '2017-04-05', '2017-04-04', '2017-04-03', '2017-03-31', '2017-03-30', '2017-03-29', '2017-03-28', '2017-03-27', '2017-03-24', '2017-03-23', '2017-03-22', '2017-03-21', '2017-03-20', '2017-03-17', '2017-03-16', '2017-03-15', '2017-03-14', '2017-03-13', '2017-03-10', '2017-03-09', '2017-03-08', '2017-03-07', '2017-03-06', '2017-03-03', '2017-03-02', '2017-03-01', '2017-02-28', '2017-02-27', '2017-02-24', '2017-02-23', '2017-02-22', '2017-02-21', '2017-02-20', '2017-02-17', '2017-02-16', '2017-02-15', '2017-02-14', '2017-02-13', '2017-02-10', '2017-02-09', '2017-02-08', '2017-02-07', '2017-02-06', '2017-02-03', '2017-02-02', '2017-02-01', '2017-01-31', '2017-01-30', '2017-01-27', '2017-01-26', '2017-01-25', '2017-01-24', '2017-01-23', '2017-01-20', '2017-01-19', '2017-01-18', '2017-01-17', '2017-01-16', '2017-01-13', '2017-01-12', '2017-01-11', '2017-01-10', '2017-01-09', '2017-01-06', '2017-01-05', '2017-01-04', '2017-01-03', '2017-01-02'], 'Open': [51.76, 51.65, 51.45, 51.05, 51.16, 51.88, 52.73, 52.37, 52.7, 53.11, 52.64, 52.29, 52.28, 51.5, 50.89, 50.8, 51.21, 49.5, 49.52, 48.64, 49.64, 49.09, 49.13, 49.11, 48.8, 48.4, 47.25, 46.57, 47.03, 47.09, 47.98, 48.4, 48.38, 47.3, 47.65, 46.42, 46.16, 45.81, 45.0, 45.88, 46.29, 46.53, 45.48, 45.2, 45.01, 45.16, 44.9, 45.08, 45.72, 46.01, 45.8, 45.61, 45.5, 45.58, 45.97, 45.64, 46.2, 46.19, 46.01, 45.36, 44.51, 43.58, 42.0, 42.35, 42.3, 42.3, 41.48, 42.29, 42.54, 42.65, 42.5, 42.29, 42.35, 42.49, 43.21, 42.81, 42.7, 43.0, 42.66, 43.0, 42.38, 42.16, 42.0, 42.0, 41.71, 42.11, 42.64, 42.72, 42.82, 42.46, 42.42, 42.28, 41.88, 42.4, 42.53, 42.12, 41.3, 41.73, 43.5, 44.9, 45.85, 45.13, 45.34, 45.25, 45.24, 44.94, 45.26, 45.16, 44.91, 44.7, 45.31, 45.57, 45.74, 45.06, 45.5, 45.6, 45.07, 44.67, 44.29, 44.94, 44.64, 44.79, 45.5, 44.67, 45.83, 45.29, 45.01, 45.73, 46.68, 47.23, 46.95, 47.29, 47.03, 47.46, 46.48, 46.9, 45.66, 46.34, 46.52, 46.5, 47.31, 46.77, 47.8, 47.01, 47.12, 46.8, 46.12, 45.22, 45.05, 45.61, 44.8, 44.8, 43.92, 43.67, 44.16, 43.74, 44.0, 45.06, 45.15, 45.09, 45.18, 43.4, 43.5, 41.83, 43.0, 42.52, 41.86, 42.2, 41.89, None, 42.17, 41.51, 41.88, 41.93, 42.01, 41.97, 42.5, 41.94, 42.24, None, None, 42.06, 42.02, 41.62, 41.46, 40.9, 40.96, 41.1, 39.5, 40.15, 39.77, 40.02, 39.39, 38.95, 38.73, 38.94, 39.01, 38.25, 41.8, 41.26, 41.47, 41.4, 41.4, 41.2, 41.4, 41.53, 41.61, 41.13, 41.5, 41.25, 41.12, 41.38, 41.19, 40.38, 39.75, 39.77, 39.72, 39.6, 38.85, 39.25, 38.8, 38.8, 38.5, 38.81, 37.37, 36.65, 36.2, 35.98, 35.56, 36.06, 36.02, 35.95, 34.75, 35.24, 35.38, 34.83, 35.07, 34.42, 34.0, 34.04, 34.54, 35.04, 35.04, 35.06, 34.85, 34.98, 35.38, 34.95, 34.8, 35.29, 34.91, 35.02, 35.48, 35.9, 34.99], 'High': [51.94, 51.82, 51.89, 51.5, 51.52, 52.04, 52.73, 52.75, 52.7, 53.54, 53.35, 53.1, 52.45, 52.83, 51.47, 51.11, 51.38, 51.23, 50.49, 49.84, 49.64, 49.89, 49.73, 49.41, 49.46, 49.61, 48.59, 47.38, 47.15, 47.23, 48.01, 48.9, 48.61, 48.89, 48.06, 47.72, 46.33, 46.09, 46.04, 46.06, 46.55, 46.65, 46.42, 45.41, 45.06, 45.27, 45.34, 45.34, 45.85, 46.2, 46.06, 45.75, 45.7, 45.58, 45.97, 46.04, 46.2, 46.19, 46.09, 46.17, 44.98, 44.17, 43.56, 42.49, 42.57, 42.3, 42.38, 42.29, 42.54, 42.65, 42.63, 42.81, 42.8, 42.69, 43.34, 42.89, 42.75, 43.02, 42.71, 43.19, 42.75, 43.06, 42.08, 42.2, 41.98, 42.25, 42.64, 43.05, 43.17, 42.96, 42.76, 42.6, 43.01, 42.62, 42.53, 42.69, 41.94, 41.99, 43.5, 45.09, 46.34, 45.13, 45.54, 45.77, 45.54, 45.75, 45.29, 45.45, 45.33, 45.04, 45.31, 45.88, 45.96, 45.72, 45.55, 46.23, 45.56, 45.18, 45.05, 44.94, 45.18, 44.79, 45.5, 45.36, 45.83, 45.83, 45.74, 45.81, 46.68, 47.33, 47.63, 47.4, 47.4, 47.48, 47.43, 46.9, 46.8, 46.34, 46.86, 46.51, 47.43, 47.44, 47.8, 47.43, 47.45, 46.99, 46.52, 46.26, 46.02, 45.61, 45.36, 44.87, 44.67, 44.13, 44.22, 44.12, 44.3, 45.34, 45.36, 45.78, 45.18, 46.06, 43.6, 43.55, 43.0, 42.91, 42.5, 42.29, 42.23, 42.245, 42.25, 42.24, 41.94, 42.18, 42.02, 42.14, 42.64, 42.61, 42.4, 42.48, 42.48, 42.48, 42.45, 42.03, 41.68, 41.42, 41.25, 41.34, 40.88, 40.15, 40.07, 40.14, 40.01, 39.35, 39.1, 39.02, 39.25, 39.02, 41.83, 42.17, 41.59, 41.57, 41.5, 41.5, 41.46, 41.53, 41.61, 41.71, 41.8, 41.4, 41.22, 41.39, 41.57, 40.95, 40.64, 40.14, 39.98, 39.75, 39.57, 39.25, 39.03, 39.2, 38.93, 38.86, 39.36, 37.5, 36.25, 36.14, 36.05, 36.15, 36.2, 36.2, 36.0, 35.24, 35.59, 35.43, 35.58, 34.86, 34.35, 34.12, 34.59, 35.04, 35.51, 35.19, 35.24, 34.98, 35.38, 36.0, 34.98, 35.35, 35.21, 35.2, 35.51, 35.93, 35.94], 'Low': [51.45, 51.43, 50.76, 50.92, 50.9, 51.2, 51.07, 51.61, 51.64, 52.15, 52.48, 51.82, 51.26, 51.28, 50.81, 50.39, 50.4, 49.5, 49.17, 48.28, 48.7, 49.03, 48.96, 48.87, 48.45, 48.39, 46.78, 46.54, 46.8, 46.55, 46.75, 47.84, 47.76, 47.16, 47.09, 46.42, 45.84, 45.76, 44.83, 45.18, 45.97, 45.61, 45.46, 44.91, 44.7, 44.75, 44.89, 44.76, 44.79, 45.61, 45.37, 45.3, 45.37, 45.17, 45.25, 45.57, 45.6, 45.69, 45.63, 45.22, 44.18, 43.3, 42.0, 41.78, 42.11, 41.96, 41.48, 41.39, 41.99, 42.13, 42.23, 42.25, 42.35, 42.22, 42.62, 42.56, 42.56, 42.67, 42.34, 42.55, 41.95, 42.07, 41.12, 41.49, 41.33, 41.86, 42.05, 42.63, 42.6, 42.4, 42.2, 42.01, 41.76, 41.98, 42.2, 42.01, 40.96, 41.14, 41.64, 44.15, 44.02, 44.36, 44.91, 44.9, 45.1, 44.94, 44.75, 45.15, 44.46, 44.63, 44.49, 45.04, 45.23, 44.94, 44.7, 45.29, 44.83, 44.67, 43.89, 44.08, 44.51, 44.25, 44.15, 44.44, 44.74, 45.06, 45.0, 45.11, 45.41, 46.39, 46.91, 46.79, 46.75, 46.53, 46.27, 46.25, 45.66, 45.21, 46.05, 46.03, 45.89, 46.55, 46.27, 47.01, 46.21, 46.72, 45.89, 45.22, 45.05, 45.24, 44.71, 44.29, 43.92, 43.55, 43.44, 43.74, 43.29, 44.01, 44.56, 44.31, 44.16, 43.25, 42.53, 41.82, 42.04, 42.38, 41.71, 41.78, 41.76, 41.655, 41.66, 41.51, 41.4, 41.66, 41.23, 41.01, 41.52, 41.94, 41.54, 41.985, 41.985, 41.99, 41.84, 41.53, 41.31, 40.84, 40.83, 40.79, 39.48, 39.54, 39.42, 39.42, 39.05, 38.79, 38.53, 38.6, 38.63, 37.53, 40.97, 41.26, 41.16, 41.09, 40.91, 41.2, 41.08, 41.16, 41.16, 40.95, 41.25, 40.81, 40.84, 40.76, 40.9, 40.38, 39.75, 38.91, 39.38, 39.27, 38.85, 38.81, 38.48, 38.25, 38.4, 38.0, 37.35, 36.57, 35.77, 35.84, 35.36, 35.6, 35.73, 35.7, 34.75, 34.56, 34.95, 34.81, 34.8, 34.03, 33.85, 33.62, 34.05, 34.42, 34.8, 34.79, 34.56, 34.6, 34.31, 34.84, 34.46, 34.43, 34.91, 34.73, 34.75, 35.34, 34.99], 'Close': [51.76, 51.6, 51.82, 51.32, 51.4, 51.27, 51.66, 52.62, 52.01, 52.67, 53.09, 52.43, 52.14, 52.12, 51.47, 50.89, 51.25, 51.14, 49.86, 49.7, 48.75, 49.25, 49.2, 49.11, 49.2, 48.8, 48.39, 47.04, 46.84, 47.03, 47.05, 48.0, 48.34, 48.34, 47.21, 47.47, 46.26, 45.99, 45.97, 45.27, 46.04, 45.76, 46.41, 45.41, 45.0, 44.85, 45.0, 44.87, 45.0, 45.77, 45.96, 45.55, 45.4, 45.43, 45.29, 45.84, 45.74, 46.0, 46.05, 46.11, 44.98, 44.17, 43.56, 42.04, 42.37, 42.07, 42.06, 41.46, 41.99, 42.44, 42.27, 42.42, 42.52, 42.45, 42.73, 42.85, 42.67, 42.77, 42.55, 42.62, 42.6, 42.41, 41.9, 41.94, 41.85, 41.91, 42.14, 42.69, 42.71, 42.71, 42.26, 42.41, 42.5, 42.05, 42.28, 42.3, 41.94, 41.68, 41.81, 44.37, 44.96, 45.07, 44.97, 45.56, 45.45, 45.3, 44.97, 45.25, 45.16, 44.82, 44.61, 45.44, 45.66, 45.57, 45.0, 45.6, 45.53, 44.95, 44.95, 44.2, 44.7, 44.53, 44.62, 45.19, 44.8, 45.75, 45.44, 45.2, 45.68, 46.83, 47.21, 46.99, 47.29, 46.99, 47.37, 46.64, 46.63, 45.67, 46.33, 46.32, 46.31, 47.44, 46.27, 47.43, 47.43, 46.99, 46.52, 45.86, 46.02, 45.32, 45.3, 44.78, 44.53, 43.9, 43.84, 44.12, 43.98, 44.19, 45.31, 45.14, 44.99, 45.0, 43.28, 43.3, 42.24, 42.75, 42.5, 41.9, 42.15, 41.72, 41.72, 42.16, 41.5, 41.89, 41.81, 41.32, 41.93, 42.61, 42.0, 42.2, 42.2, 42.2, 42.2, 41.75, 41.68, 41.42, 41.05, 41.1, 40.81, 39.64, 39.98, 39.75, 40.01, 39.22, 38.85, 38.94, 38.96, 38.94, 40.98, 41.97, 41.34, 41.46, 41.25, 41.3, 41.3, 41.4, 41.4, 41.68, 41.42, 41.4, 41.18, 41.17, 41.2, 40.84, 40.39, 39.74, 39.79, 39.7, 39.45, 38.98, 39.02, 38.71, 38.72, 38.37, 38.53, 37.06, 36.25, 36.05, 35.89, 35.64, 36.1, 36.07, 35.94, 34.56, 35.15, 35.3, 34.89, 34.83, 34.22, 34.06, 34.17, 34.5, 34.9, 34.99, 35.07, 34.85, 34.9, 35.42, 34.91, 34.67, 35.04, 35.06, 35.19, 35.48, 35.8], 'Change': [None, None, None, None, None, None, None, None, None, None, None, None, None, None, None, None, None, None, None, None, None, None, None, None, None, None, None, None, None, None, None, None, None, None, None, None, None, None, None, None, None, None, None, None, None, None, None, None, None, None, None, None, None, None, None, None, None, None, None, None, None, None, None, None, None, None, None, None, None, None, None, None, None, None, None, None, None, None, None, None, None, None, None, None, None, None, None, None, None, None, None, None, None, None, None, None, None, None, None, None, None, None, None, None, None, None, None, None, None, None, None, None, None, None, None, None, None, None, None, None, None, None, None, None, None, None, None, None, None, None, None, None, None, None, None, None, None, None, None, None, None, None, None, None, None, None, None, None, None, None, None, None, None, None, None, None, None, None, None, None, None, None, None, None, None, None, None, None, None, -0.44, None, None, None, None, None, None, None, None, None, None, None, None, None, None, None, None, None, None, None, None, None, None, None, None, None, None, None, None, None, None, None, None, None, None, None, None, None, None, None, None, None, None, None, None, None, None, None, None, None, None, None, None, None, None, None, None, None, None, None, None, None, None, None, None, None, None, None, None, None, None, None, None, None, None, None, None, None, None, None, None, None, None, None, None, None], 'Traded Volume': [34640.0, 40660.0, 57452.0, 71165.0, 120649.0, 50587.0, 137313.0, 129733.0, 204080.0, 132981.0, 128434.0, 87911.0, 71817.0, 109157.0, 48123.0, 88730.0, 83023.0, 94385.0, 101733.0, 123019.0, 67342.0, 42669.0, 102180.0, 50350.0, 38834.0, 91142.0, 78502.0, 97252.0, 54107.0, 89373.0, 67593.0, 67672.0, 76286.0, 90245.0, 120268.0, 94195.0, 48152.0, 60716.0, 56911.0, 37958.0, 56319.0, 56245.0, 74472.0, 56319.0, 47730.0, 43042.0, 43375.0, 55707.0, 59991.0, 45263.0, 65837.0, 49246.0, 43362.0, 49180.0, 69455.0, 65860.0, 44059.0, 66760.0, 94804.0, 115706.0, 95313.0, 99821.0, 157234.0, 76600.0, 51321.0, 56224.0, 79955.0, 105194.0, 57838.0, 65546.0, 44037.0, 107144.0, 65157.0, 68801.0, 52828.0, 103273.0, 59881.0, 64320.0, 71006.0, 66351.0, 105288.0, 151474.0, 157888.0, 97804.0, 98156.0, 47130.0, 69734.0, 65213.0, 70269.0, 95376.0, 68812.0, 72886.0, 131361.0, 104676.0, 64334.0, 127682.0, 183412.0, 175161.0, 355857.0, 156168.0, 164543.0, 96202.0, 77854.0, 187468.0, 74975.0, 62672.0, 114006.0, 50557.0, 81970.0, 112224.0, 104282.0, 73422.0, 87399.0, 71971.0, 104003.0, 104995.0, 67375.0, 82745.0, 115705.0, 90538.0, 71868.0, 47999.0, 66116.0, 48706.0, 50549.0, 71381.0, 136112.0, 134965.0, 117165.0, 82492.0, 73322.0, 80586.0, 56071.0, 89752.0, 108334.0, 70056.0, 202214.0, 101733.0, 83741.0, 107644.0, 112942.0, 99674.0, 1945.0, 1081.0, 686.0, 290.0, 106513.0, 522.0, 587.0, 112.0, 74453.0, 49970.0, 111923.0, 38308.0, 70856.0, 45.0, 166160.0, 149515.0, 101476.0, 193702.0, 159495.0, 189125.0, 91858.0, 151439.0, 97456.0, 78512.0, 82058.0, 65266.0, 86559.0, 86348.0, 86348.0, 151683.0, 65847.0, 85973.0, 102084.0, 186784.0, 223621.0, 92722.0, 133057.0, 88416.0, 88416.0, 88416.0, 158278.0, 107817.0, 62297.0, 81255.0, 96794.0, 156005.0, 193156.0, 127973.0, 95382.0, 189201.0, 335406.0, 115075.0, 191515.0, 210926.0, 169971.0, 670349.0, 56906.0, 97572.0, 90109.0, 55799.0, 60324.0, 60420.0, 44803.0, 38518.0, 43988.0, 45111.0, 61925.0, 46510.0, 40800.0, 49863.0, 86753.0, 67440.0, 62655.0, 101294.0, 81945.0, 77619.0, 46070.0, 37014.0, 60583.0, 84682.0, 77420.0, 82601.0, 177171.0, 115843.0, 67781.0, 39731.0, 67410.0, 41911.0, 40705.0, 54279.0, 85137.0, 63371.0, 69603.0, 69657.0, 64103.0, 56240.0, 48797.0, 55333.0, 80246.0, 73105.0, 65931.0, 39195.0, 47879.0, 59367.0, 163860.0, 123530.0, 43976.0, 62225.0, 27507.0, 48412.0, 54408.0, 70618.0, 44700.0], 'Turnover': [1792304.0, 2099024.0, 2957018.0, 3641949.0, 6179433.0, 2610258.0, 7102361.0, 6770499.0, 10596319.0, 7016953.0, 6801159.0, 4615924.0, 3724193.0, 5690648.0, 2463848.0, 4504075.0, 4231971.0, 4800027.0, 5065932.0, 6085171.0, 3292223.0, 2107358.0, 5055762.0, 2472842.0, 1909352.0, 4478093.0, 3782098.0, 4563515.0, 2540820.0, 4195732.0, 3188321.0, 3259979.0, 3681337.0, 4361552.0, 5712034.0, 4463935.0, 2224221.0, 2789220.0, 2603498.0, 1724840.0, 2603859.0, 2585397.0, 3434087.0, 2548078.0, 2145697.0, 1937616.0, 1952918.0, 2503853.0, 2703085.0, 2076951.0, 3014080.0, 2243129.0, 1971801.0, 2233481.0, 3158321.0, 3016658.0, 2015453.0, 3066198.0, 4352002.0, 5313199.0, 4265024.0, 4384796.0, 6775569.0, 3219861.0, 2175381.0, 2366453.0, 3362517.0, 4378409.0, 2440557.0, 2777065.0, 1864954.0, 4555791.0, 2770696.0, 2921240.0, 2259924.0, 4415614.0, 2553977.0, 2751388.0, 3020229.0, 2846115.0, 4471634.0, 6453558.0, 6580200.0, 4090262.0, 4094452.0, 1978704.0, 2948016.0, 2792319.0, 3011578.0, 4075646.0, 2922972.0, 3092377.0, 5583704.0, 4408312.0, 2721852.0, 5416963.0, 7604144.0, 7303562.0, 15003956.0, 6941408.0, 7378816.0, 4306911.0, 3517146.0, 8528548.0, 3399891.0, 2844210.0, 5127247.0, 2290284.0, 3688510.0, 5033312.0, 4661866.0, 3334695.0, 3986488.0, 3273001.0, 4684627.0, 4801806.0, 3054060.0, 3718928.0, 5133971.0, 4010457.0, 3221218.0, 2136578.0, 2952605.0, 2189436.0, 2273551.0, 3251502.0, 6187148.0, 6132452.0, 5381488.0, 3866344.0, 3465639.0, 3792498.0, 2640508.0, 4206563.0, 5109730.0, 3260381.0, 9411695.0, 4635593.0, 3881453.0, 4981185.0, 5238390.0, 4702170.0, 90599.0, 51021.0, 32083.0, 13584.0, 4930686.0, 24044.0, 26792.0, 5089.0, 3360707.0, 2231857.0, 4971343.0, 1681904.0, 3103013.0, 1980.0, 7277314.0, 6664744.0, 4567885.0, 8734286.0, 7113519.0, 8496322.0, 3958630.0, 6538516.0, 4128048.0, 3353971.0, 3465505.0, 2738394.0, 3636583.0, 3606589.0, 3606589.0, 6380639.0, 2743109.0, 3604204.0, 4247032.0, 7728103.0, 9418192.0, 3930856.0, 5587565.0, 3734717.0, 3734717.0, 3734717.0, 6672547.0, 4501109.0, 2585922.0, 3344628.0, 3968681.0, 6404780.0, 7822665.0, 5081376.0, 3795061.0, 7541354.0, 13349426.0, 4505494.0, 7446952.0, 8205507.0, 6621807.0, 25910543.0, 2349965.0, 4074891.0, 3734232.0, 2308423.0, 2488650.0, 2498025.0, 1850251.0, 1592270.0, 1819182.0, 1870935.0, 2569608.0, 1916799.0, 1675587.0, 2048153.0, 3569796.0, 2747011.0, 2520260.0, 4015150.0, 3260642.0, 3066894.0, 1808350.0, 1444138.0, 2352961.0, 3282322.0, 2996861.0, 3163898.0, 6804028.0, 4291017.0, 2445428.0, 1431205.0, 2410818.0, 1496794.0, 1464712.0, 1953176.0, 3038172.0, 2199583.0, 2457762.0, 2444913.0, 2249375.0, 1947147.0, 1666086.0, 1877957.0, 2743474.0, 2526731.0, 2311608.0, 1369857.0, 1678679.0, 2065534.0, 5703427.0, 4369079.0, 1528055.0, 2157182.0, 964046.0, 1692326.0, 1906810.0, 2515473.0, 1590561.0], 'Last Price of the Day': [None, None, None, None, None, None, None, None, None, None, None, None, None, None, None, None, None, None, None, None, None, None, None, None, None, None, None, None, None, None, None, None, None, None, None, None, None, None, None, None, None, None, None, None, None, None, None, None, None, None, None, None, None, None, None, None, None, None, None, None, None, None, None, None, None, None, None, None, None, None, None, None, None, None, None, None, None, None, None, None, None, None, None, None, None, None, None, None, None, None, None, None, None, None, None, None, None, None, None, None, None, None, None, None, None, None, None, None, None, None, None, None, None, None, None, None, None, None, None, None, None, None, None, None, None, None, None, None, None, None, None, None, None, None, None, None, None, None, None, None, None, None, None, None, None, None, None, None, None, None, None, None, None, None, None, None, None, None, None, None, None, None, None, None, None, None, None, None, None, None, None, None, None, None, None, None, None, None, None, None, None, None, None, None, None, None, None, None, None, None, None, None, None, None, None, None, None, None, None, None, None, None, None, None, None, None, None, None, None, None, None, None, None, None, None, None, None, None, None, None, None, None, None, None, None, None, None, None, None, None, None, None, None, None, None, None, None, None, None, None, None, None, None, None, None, None, None, None, None, None, None, None, None, None, None], 'Daily Traded Units': [None, None, None, None, None, None, None, None, None, None, None, None, None, None, None, None, None, None, None, None, None, None, None, None, None, None, None, None, None, None, None, None, None, None, None, None, None, None, None, None, None, None, None, None, None, None, None, None, None, None, None, None, None, None, None, None, None, None, None, None, None, None, None, None, None, None, None, None, None, None, None, None, None, None, None, None, None, None, None, None, None, None, None, None, None, None, None, None, None, None, None, None, None, None, None, None, None, None, None, None, None, None, None, None, None, None, None, None, None, None, None, None, None, None, None, None, None, None, None, None, None, None, None, None, None, None, None, None, None, None, None, None, None, None, None, None, None, None, None, None, None, None, None, None, None, None, None, None, None, None, None, None, None, None, None, None, None, None, None, None, None, None, None, None, None, None, None, None, None, None, None, None, None, None, None, None, None, None, None, None, None, None, None, None, None, None, None, None, None, None, None, None, None, None, None, None, None, None, None, None, None, None, None, None, None, None, None, None, None, None, None, None, None, None, None, None, None, None, None, None, None, None, None, None, None, None, None, None, None, None, None, None, None, None, None, None, None, None, None, None, None, None, None, None, None, None, None, None, None, None, None, None, None, None, None], 'Daily Turnover': [None, None, None, None, None, None, None, None, None, None, None, None, None, None, None, None, None, None, None, None, None, None, None, None, None, None, None, None, None, None, None, None, None, None, None, None, None, None, None, None, None, None, None, None, None, None, None, None, None, None, None, None, None, None, None, None, None, None, None, None, None, None, None, None, None, None, None, None, None, None, None, None, None, None, None, None, None, None, None, None, None, None, None, None, None, None, None, None, None, None, None, None, None, None, None, None, None, None, None, None, None, None, None, None, None, None, None, None, None, None, None, None, None, None, None, None, None, None, None, None, None, None, None, None, None, None, None, None, None, None, None, None, None, None, None, None, None, None, None, None, None, None, None, None, None, None, None, None, None, None, None, None, None, None, None, None, None, None, None, None, None, None, None, None, None, None, None, None, None, None, None, None, None, None, None, None, None, None, None, None, None, None, None, None, None, None, None, None, None, None, None, None, None, None, None, None, None, None, None, None, None, None, None, None, None, None, None, None, None, None, None, None, None, None, None, None, None, None, None, None, None, None, None, None, None, None, None, None, None, None, None, None, None, None, None, None, None, None, None, None, None, None, None, None, None, None, None, None, None, None, None, None, None, None, None]}\n"
          ]
        }
      ],
      "metadata": {
        "colab": {
          "base_uri": "https://localhost:8080/"
        },
        "id": "YCvJ_FhpsSFj",
        "outputId": "88558ffb-c205-43ac-f8c6-3d6b204ff5a0"
      }
    },
    {
      "cell_type": "code",
      "source": [
        "# 3. Calculate what the highest and lowest opening prices were for the stock in this period.\n",
        "#print(max(new_data_dict['Open']))\n",
        "print('highest opening price: ', max(x for x in new_data_dict['Open'] if x is not None))\n",
        "print('lowest opening price: ', min(x for x in new_data_dict['Open'] if x is not None))\n"
      ],
      "metadata": {
        "colab": {
          "base_uri": "https://localhost:8080/"
        },
        "id": "nQfuc0K38Okm",
        "outputId": "533661bd-25e0-4954-b89b-eae2aaa32f5b"
      },
      "execution_count": 42,
      "outputs": [
        {
          "output_type": "stream",
          "name": "stdout",
          "text": [
            "highest opening price:  53.11\n",
            "lowest opening price:  34.0\n"
          ]
        }
      ]
    },
    {
      "cell_type": "code",
      "source": [
        "# 4. What was the largest change in any one day (based on High and Low price)?\n",
        "\n",
        "new_data_dict['high_diff_low'] = []\n",
        "\n",
        "\n",
        "for j in range(len(new_data_dict['High'])):\n",
        "        new_data_dict['high_diff_low'].append(round(new_data_dict['High'][j]-new_data_dict['Low'][j],2))  \n",
        "\n",
        "\n",
        "\n",
        "print(\"Largest change in one day: \", max(x for x in new_data_dict['high_diff_low'] if x is not None))\n",
        "\n",
        "#print(\"\\r\")\n",
        "\n",
        "print(\"List of values: Difference between High & Low prices:\")\n",
        "#print(\"\\r\")      \n",
        "print(new_data_dict['high_diff_low'])  \n"
      ],
      "metadata": {
        "colab": {
          "base_uri": "https://localhost:8080/"
        },
        "id": "SCLksLGPGEFO",
        "outputId": "6f49c130-e8db-4820-e65e-c191fc9d9a73"
      },
      "execution_count": 44,
      "outputs": [
        {
          "output_type": "stream",
          "name": "stdout",
          "text": [
            "Largest change in one day:  2.81\n",
            "List of values: Difference between High & Low prices:\n",
            "[0.49, 0.39, 1.13, 0.58, 0.62, 0.84, 1.66, 1.14, 1.06, 1.39, 0.87, 1.28, 1.19, 1.55, 0.66, 0.72, 0.98, 1.73, 1.32, 1.56, 0.94, 0.86, 0.77, 0.54, 1.01, 1.22, 1.81, 0.84, 0.35, 0.68, 1.26, 1.06, 0.85, 1.73, 0.97, 1.3, 0.49, 0.33, 1.21, 0.88, 0.58, 1.04, 0.96, 0.5, 0.36, 0.52, 0.45, 0.58, 1.06, 0.59, 0.69, 0.45, 0.33, 0.41, 0.72, 0.47, 0.6, 0.5, 0.46, 0.95, 0.8, 0.87, 1.56, 0.71, 0.46, 0.34, 0.9, 0.9, 0.55, 0.52, 0.4, 0.56, 0.45, 0.47, 0.72, 0.33, 0.19, 0.35, 0.37, 0.64, 0.8, 0.99, 0.96, 0.71, 0.65, 0.39, 0.59, 0.42, 0.57, 0.56, 0.56, 0.59, 1.25, 0.64, 0.33, 0.68, 0.98, 0.85, 1.86, 0.94, 2.32, 0.77, 0.63, 0.87, 0.44, 0.81, 0.54, 0.3, 0.87, 0.41, 0.82, 0.84, 0.73, 0.78, 0.85, 0.94, 0.73, 0.51, 1.16, 0.86, 0.67, 0.54, 1.35, 0.92, 1.09, 0.77, 0.74, 0.7, 1.27, 0.94, 0.72, 0.61, 0.65, 0.95, 1.16, 0.65, 1.14, 1.13, 0.81, 0.48, 1.54, 0.89, 1.53, 0.42, 1.24, 0.27, 0.63, 1.04, 0.97, 0.37, 0.65, 0.58, 0.75, 0.58, 0.78, 0.38, 1.01, 1.33, 0.8, 1.47, 1.02, 2.81, 1.07, 1.73, 0.96, 0.53, 0.79, 0.51, 0.47, 0.59, 0.59, 0.73, 0.54, 0.52, 0.79, 1.13, 1.12, 0.67, 0.86, 0.49, 0.49, 0.49, 0.61, 0.5, 0.37, 0.58, 0.42, 0.55, 1.4, 0.61, 0.65, 0.72, 0.96, 0.56, 0.57, 0.42, 0.62, 1.49, 0.86, 0.91, 0.43, 0.48, 0.59, 0.3, 0.38, 0.37, 0.45, 0.76, 0.55, 0.59, 0.38, 0.63, 0.67, 0.57, 0.89, 1.23, 0.6, 0.48, 0.72, 0.44, 0.55, 0.95, 0.53, 0.86, 2.01, 0.93, 0.48, 0.3, 0.69, 0.55, 0.47, 0.5, 1.25, 0.68, 0.64, 0.62, 0.78, 0.83, 0.5, 0.5, 0.54, 0.62, 0.71, 0.4, 0.68, 0.38, 1.07, 1.16, 0.52, 0.92, 0.3, 0.47, 0.76, 0.59, 0.95]\n"
          ]
        }
      ]
    },
    {
      "cell_type": "code",
      "source": [
        "# 5. What was the largest change between any two days (based on Closing Price)?\n",
        "\n",
        "new_data_dict['diff_prior'] = []\n",
        "\n",
        "num = len(new_data_dict['Close'])\n",
        "          \n",
        "for j in range(num):\n",
        "    try:\n",
        "            new_data_dict['diff_prior'].append(round(new_data_dict['Close'][j+1]-new_data_dict['Close'][j],2))  \n",
        "    except IndexError: \n",
        "            new_data_dict['diff_prior'].append(round(new_data_dict['Close'][j-1]-new_data_dict['Close'][j],2))\n",
        "\n",
        "\n",
        "\n",
        "print(\"Largest change between any two days: \", max((abs(x) for x in new_data_dict['diff_prior'] if x is not None)))\n",
        "\n",
        "#print(\"\\r\")\n",
        "\n",
        "print(\"List of values: Difference between any two Days:\")\n",
        "#print(\"\\r\")      \n",
        "print(new_data_dict['diff_prior'])"
      ],
      "metadata": {
        "colab": {
          "base_uri": "https://localhost:8080/"
        },
        "id": "sOYk7hMFIKKh",
        "outputId": "0b87c0ab-a8d9-4b9c-d323-9861bc896c59"
      },
      "execution_count": 46,
      "outputs": [
        {
          "output_type": "stream",
          "name": "stdout",
          "text": [
            "Largest change between any two days:  2.56\n",
            "List of values: Difference between any two Days:\n",
            "[-0.16, 0.22, -0.5, 0.08, -0.13, 0.39, 0.96, -0.61, 0.66, 0.42, -0.66, -0.29, -0.02, -0.65, -0.58, 0.36, -0.11, -1.28, -0.16, -0.95, 0.5, -0.05, -0.09, 0.09, -0.4, -0.41, -1.35, -0.2, 0.19, 0.02, 0.95, 0.34, 0.0, -1.13, 0.26, -1.21, -0.27, -0.02, -0.7, 0.77, -0.28, 0.65, -1.0, -0.41, -0.15, 0.15, -0.13, 0.13, 0.77, 0.19, -0.41, -0.15, 0.03, -0.14, 0.55, -0.1, 0.26, 0.05, 0.06, -1.13, -0.81, -0.61, -1.52, 0.33, -0.3, -0.01, -0.6, 0.53, 0.45, -0.17, 0.15, 0.1, -0.07, 0.28, 0.12, -0.18, 0.1, -0.22, 0.07, -0.02, -0.19, -0.51, 0.04, -0.09, 0.06, 0.23, 0.55, 0.02, 0.0, -0.45, 0.15, 0.09, -0.45, 0.23, 0.02, -0.36, -0.26, 0.13, 2.56, 0.59, 0.11, -0.1, 0.59, -0.11, -0.15, -0.33, 0.28, -0.09, -0.34, -0.21, 0.83, 0.22, -0.09, -0.57, 0.6, -0.07, -0.58, 0.0, -0.75, 0.5, -0.17, 0.09, 0.57, -0.39, 0.95, -0.31, -0.24, 0.48, 1.15, 0.38, -0.22, 0.3, -0.3, 0.38, -0.73, -0.01, -0.96, 0.66, -0.01, -0.01, 1.13, -1.17, 1.16, 0.0, -0.44, -0.47, -0.66, 0.16, -0.7, -0.02, -0.52, -0.25, -0.63, -0.06, 0.28, -0.14, 0.21, 1.12, -0.17, -0.15, 0.01, -1.72, 0.02, -1.06, 0.51, -0.25, -0.6, 0.25, -0.43, 0.0, 0.44, -0.66, 0.39, -0.08, -0.49, 0.61, 0.68, -0.61, 0.2, 0.0, 0.0, 0.0, -0.45, -0.07, -0.26, -0.37, 0.05, -0.29, -1.17, 0.34, -0.23, 0.26, -0.79, -0.37, 0.09, 0.02, -0.02, 2.04, 0.99, -0.63, 0.12, -0.21, 0.05, 0.0, 0.1, 0.0, 0.28, -0.26, -0.02, -0.22, -0.01, 0.03, -0.36, -0.45, -0.65, 0.05, -0.09, -0.25, -0.47, 0.04, -0.31, 0.01, -0.35, 0.16, -1.47, -0.81, -0.2, -0.16, -0.25, 0.46, -0.03, -0.13, -1.38, 0.59, 0.15, -0.41, -0.06, -0.61, -0.16, 0.11, 0.33, 0.4, 0.09, 0.08, -0.22, 0.05, 0.52, -0.51, -0.24, 0.37, 0.02, 0.13, 0.29, 0.32, -0.32]\n"
          ]
        }
      ]
    },
    {
      "cell_type": "code",
      "source": [
        "# 6. What was the average daily trading volume during this year?\n",
        "\n",
        "print(\"Average daily trading volume: \", statistics.mean(x for x in new_data_dict['Traded Volume'] if x is not None))"
      ],
      "metadata": {
        "colab": {
          "base_uri": "https://localhost:8080/"
        },
        "id": "iPZNQCbeKaTn",
        "outputId": "213d1960-0d73-4c16-a859-aa42fb221f56"
      },
      "execution_count": 48,
      "outputs": [
        {
          "output_type": "stream",
          "name": "stdout",
          "text": [
            "Average daily trading volume:  89124.33725490196\n"
          ]
        }
      ]
    },
    {
      "cell_type": "code",
      "source": [
        "# 7. (Optional) What was the median trading volume during this year. (Note: you may need to implement your own function for calculating the median.)\n",
        "\n",
        "\n",
        "print(\"Median trading volume: \", statistics.median(x for x in new_data_dict['Traded Volume'] if x is not None))"
      ],
      "metadata": {
        "colab": {
          "base_uri": "https://localhost:8080/"
        },
        "id": "GNNxzY4LK5Sj",
        "outputId": "90250d5f-7a2a-497d-ce28-66784e250500"
      },
      "execution_count": 49,
      "outputs": [
        {
          "output_type": "stream",
          "name": "stdout",
          "text": [
            "Median trading volume:  76286.0\n"
          ]
        }
      ]
    },
    {
      "cell_type": "code",
      "source": [],
      "metadata": {
        "id": "wsfGzlLELSiN"
      },
      "execution_count": null,
      "outputs": []
    }
  ],
  "metadata": {
    "kernelspec": {
      "name": "python3",
      "display_name": "Python 3.8.1 64-bit ('dsc_v5_solutions-7Q1D_Dt-': venv)"
    },
    "language_info": {
      "codemirror_mode": {
        "name": "ipython",
        "version": 3
      },
      "file_extension": ".py",
      "mimetype": "text/x-python",
      "name": "python",
      "nbconvert_exporter": "python",
      "pygments_lexer": "ipython3",
      "version": "3.8.1"
    },
    "interpreter": {
      "hash": "7635eb1b9d0fe97add78a7368b6b431c09bb8ad5c42e437d64abdd99821c31ae"
    },
    "colab": {
      "provenance": []
    }
  },
  "nbformat": 4,
  "nbformat_minor": 0
}